{
  "nbformat": 4,
  "nbformat_minor": 0,
  "metadata": {
    "colab": {
      "provenance": [],
      "gpuType": "T4",
      "machine_shape": "hm"
    },
    "kernelspec": {
      "name": "python3",
      "display_name": "Python 3"
    },
    "language_info": {
      "name": "python"
    },
    "accelerator": "GPU"
  },
  "cells": [
    {
      "cell_type": "markdown",
      "source": [
        "# Importación de librerías\n",
        "A continuación, se importan las librerías a utilizar en el notebook"
      ],
      "metadata": {
        "id": "FJMsmITufKLZ"
      }
    },
    {
      "cell_type": "code",
      "source": [
        "# Librerías de TensorFlow y Keras\n",
        "import tensorflow as tf\n",
        "from tensorflow.keras.preprocessing.image import ImageDataGenerator\n",
        "from tensorflow.keras.applications import VGG16, ResNet50, mobilenet_v2\n",
        "from tensorflow.keras.layers import Activation, Dropout, Dense, Flatten, BatchNormalization, Conv2D, MaxPooling2D, Lambda, Input, AveragePooling2D\n",
        "from tensorflow.keras.models import Model, Sequential, load_model\n",
        "from tensorflow.keras.optimizers import Adam\n",
        "from tensorflow.keras.initializers import he_uniform\n",
        "from tensorflow.keras.utils import to_categorical\n",
        "from tensorflow.keras.callbacks import EarlyStopping, ModelCheckpoint\n",
        "\n",
        "# Librerías de SciKit Learn\n",
        "from sklearn.preprocessing import LabelEncoder\n",
        "from sklearn.model_selection import train_test_split\n",
        "from sklearn.metrics import classification_report, confusion_matrix\n",
        "\n",
        "# Procesamiento de imágenes\n",
        "import skimage\n",
        "from skimage.transform import resize\n",
        "import cv2\n",
        "\n",
        "# Utilidades generales\n",
        "import numpy as np\n",
        "import pandas as pd\n",
        "import matplotlib.pyplot as plt\n",
        "import seaborn as sns\n",
        "import random\n",
        "import shutil\n",
        "import os\n",
        "import zipfile\n",
        "import pickle\n",
        "\n",
        "# Google Colab\n",
        "import gdown\n",
        "\n",
        "# Limpieza de memoria\n",
        "import gc"
      ],
      "metadata": {
        "id": "7CXhCpyCAImw"
      },
      "execution_count": 1,
      "outputs": []
    },
    {
      "cell_type": "code",
      "source": [
        "RANDOM_SEED = 42\n",
        "SAMPLE_SIZE = 0.95\n",
        "VAL_SIZE = 0.5"
      ],
      "metadata": {
        "id": "js2D5vOa4rbR"
      },
      "execution_count": 2,
      "outputs": []
    },
    {
      "cell_type": "markdown",
      "source": [
        "# Descarga de dataset\n",
        "Se utilizarán diferentes datasets para el entrenamiento/validación y las pruebas"
      ],
      "metadata": {
        "id": "FAoi7ks2fhSB"
      }
    },
    {
      "cell_type": "markdown",
      "source": [
        "Dataset: https://www.kaggle.com/datasets/tawsifurrahman/covid19-radiography-database"
      ],
      "metadata": {
        "id": "IShULG92apFL"
      }
    },
    {
      "cell_type": "markdown",
      "source": [
        "Cargar archivos de Google Drive"
      ],
      "metadata": {
        "id": "vEyA9MH_f9om"
      }
    },
    {
      "cell_type": "code",
      "source": [
        "#gdown.download('https://drive.google.com/uc?id=1VM68wfY1XJXsLAVvZ1dru2840iE_HDRp', quiet=False) # dataset v2\n",
        "gdown.download('https://drive.google.com/uc?id=1A2HJnCGaO-ta7pBAE7l2aJR79tD2zD3h', quiet=False) # dataset v1\n",
        "#gdown.download('https://drive.google.com/uc?id=1K3KSWVCoogKVBQGBPuFDV-Dvx6bbueBw', quiet=False) # encoder entrenado\n",
        "#gdown.download('https://drive.google.com/uc?id=1LIF6h8GFLsZnsr7eoSe1evfWX7KWTI6L', quiet=False) # modelo entrenado"
      ],
      "metadata": {
        "colab": {
          "base_uri": "https://localhost:8080/",
          "height": 122
        },
        "id": "iuRr6RISAcJE",
        "outputId": "b8e6ec6b-bd4d-4b33-fad3-27bda038eb20"
      },
      "execution_count": 3,
      "outputs": [
        {
          "output_type": "stream",
          "name": "stderr",
          "text": [
            "Downloading...\n",
            "From (original): https://drive.google.com/uc?id=1A2HJnCGaO-ta7pBAE7l2aJR79tD2zD3h\n",
            "From (redirected): https://drive.google.com/uc?id=1A2HJnCGaO-ta7pBAE7l2aJR79tD2zD3h&confirm=t&uuid=4ac5cc5b-9efe-4070-971d-456350a21dcc\n",
            "To: /content/covid_v1.zip\n",
            "100%|██████████| 758M/758M [00:12<00:00, 61.4MB/s]\n"
          ]
        },
        {
          "output_type": "execute_result",
          "data": {
            "text/plain": [
              "'covid_v1.zip'"
            ],
            "application/vnd.google.colaboratory.intrinsic+json": {
              "type": "string"
            }
          },
          "metadata": {},
          "execution_count": 3
        }
      ]
    },
    {
      "cell_type": "code",
      "source": [
        "fileTrainVal = 'covid_v1.zip'\n",
        "folderTrainVal = './trainval'"
      ],
      "metadata": {
        "id": "1h5tQY96fIGr"
      },
      "execution_count": 4,
      "outputs": []
    },
    {
      "cell_type": "code",
      "source": [
        "with zipfile.ZipFile(fileTrainVal, 'r') as zip_ref:\n",
        "  zip_ref.extractall(folderTrainVal)"
      ],
      "metadata": {
        "id": "crVvCk7cTdBj"
      },
      "execution_count": 5,
      "outputs": []
    },
    {
      "cell_type": "markdown",
      "source": [
        "El 95% del dataset se utilizará para entrenamiento y validación. El 5% restante para pruebas"
      ],
      "metadata": {
        "id": "6WrFxJ2wgeE8"
      }
    },
    {
      "cell_type": "code",
      "source": [
        "# Obtener la lista de rutas de las imágenes en las carpetas \"normal\" y \"covid\"\n",
        "normal_folder = os.path.join(folderTrainVal, 'dataset/normal')\n",
        "covid_folder = os.path.join(folderTrainVal, 'dataset/covid')\n",
        "\n",
        "full_normal_paths = [os.path.join(normal_folder, filename) for filename in os.listdir(normal_folder)]\n",
        "full_covid_paths = [os.path.join(covid_folder, filename) for filename in os.listdir(covid_folder)]"
      ],
      "metadata": {
        "id": "PXC4kVyuz-E6"
      },
      "execution_count": 6,
      "outputs": []
    },
    {
      "cell_type": "code",
      "source": [
        "print(\"Normales imágenes:\", len(full_normal_paths))\n",
        "print('Covid imágenes:', len(full_covid_paths))\n",
        "print('Total imágenes:', len(full_normal_paths) + len(full_covid_paths))"
      ],
      "metadata": {
        "colab": {
          "base_uri": "https://localhost:8080/"
        },
        "id": "8QAP_d_M8aax",
        "outputId": "1addc981-bede-474a-f1d1-e0e39457c4cb"
      },
      "execution_count": 7,
      "outputs": [
        {
          "output_type": "stream",
          "name": "stdout",
          "text": [
            "Normales imágenes: 1366\n",
            "Covid imágenes: 290\n",
            "Total imágenes: 1656\n"
          ]
        }
      ]
    },
    {
      "cell_type": "code",
      "source": [
        "random.seed(RANDOM_SEED)\n",
        "\n",
        "sample_size = int(len(full_normal_paths) * SAMPLE_SIZE)\n",
        "normal_paths = random.sample(full_normal_paths, sample_size)\n",
        "\n",
        "sample_size = int(len(full_covid_paths) * SAMPLE_SIZE)\n",
        "covid_paths = random.sample(full_covid_paths, sample_size)"
      ],
      "metadata": {
        "id": "gsBJRGaHhY2c"
      },
      "execution_count": 8,
      "outputs": []
    },
    {
      "cell_type": "code",
      "source": [
        "print(\"Normales imágenes:\", len(normal_paths))\n",
        "print('Covid imágenes:', len(covid_paths))\n",
        "print('Total imágenes:', len(normal_paths) + len(covid_paths))"
      ],
      "metadata": {
        "colab": {
          "base_uri": "https://localhost:8080/"
        },
        "id": "dLqZ6mC0jK3o",
        "outputId": "0dbf013a-43f3-48e4-ec27-69afaf67629d"
      },
      "execution_count": 9,
      "outputs": [
        {
          "output_type": "stream",
          "name": "stdout",
          "text": [
            "Normales imágenes: 1297\n",
            "Covid imágenes: 275\n",
            "Total imágenes: 1572\n"
          ]
        }
      ]
    },
    {
      "cell_type": "markdown",
      "source": [
        "Funciones auxiliares"
      ],
      "metadata": {
        "id": "qVNgIZ00CBTd"
      }
    },
    {
      "cell_type": "code",
      "source": [
        "# Función para procesar las imágenes\n",
        "def process_images(image_paths, label):\n",
        "  data = []\n",
        "  labels = []\n",
        "  for image_path in image_paths:\n",
        "    # Leer la imagen\n",
        "    image = cv2.imread(image_path)\n",
        "    # Convertir la imagen a RGB\n",
        "    image = cv2.cvtColor(image, cv2.COLOR_BGR2RGB)\n",
        "    # Redimensionar la imagen a 224x224 píxeles\n",
        "    image = cv2.resize(image, (224, 224))\n",
        "    # Normalizar los valores de píxeles\n",
        "    image = image / 255.0\n",
        "    # Agregar la imagen y su etiqueta a las listas de datos y etiquetas\n",
        "    data.append(image)\n",
        "    labels.append(label)\n",
        "  return data, labels"
      ],
      "metadata": {
        "id": "dDMOQa7NhO-c"
      },
      "execution_count": 10,
      "outputs": []
    },
    {
      "cell_type": "code",
      "source": [
        "# función auxiliar para graficar el reporte\n",
        "def mostrar_df_estilizado(df):\n",
        "  styled_df = df.style\\\n",
        "    .set_properties(**{'text-align': 'center', 'font-size': '10pt'})\\\n",
        "    .set_properties(subset=pd.IndexSlice[:, df.select_dtypes(include=[object]).columns],\n",
        "      **{'background-color': 'white', 'color': 'black'})\\\n",
        "    .set_properties(**{'background-color': 'white', 'color': 'black'})\\\n",
        "    .set_table_styles([{'selector': 'th', 'props': [('text-align', 'center'),('background-color', '#f4f4f4'),('color', 'black')]}])\\\n",
        "    .format(precision=4)\n",
        "  return styled_df"
      ],
      "metadata": {
        "id": "OiaxayNNWTnk"
      },
      "execution_count": 11,
      "outputs": []
    },
    {
      "cell_type": "code",
      "source": [
        "def print_confusion_matrix(confusion_matrix, class_names, figsize = (5,4), fontsize=10):\n",
        "  df_cm = pd.DataFrame(confusion_matrix, index=class_names, columns=class_names)\n",
        "  fig = plt.figure(figsize=figsize)\n",
        "  try:\n",
        "    heatmap = sns.heatmap(df_cm, annot=True, fmt=\"d\", cmap='crest')\n",
        "  except ValueError:\n",
        "    raise ValueError(\"Confusion matrix values must be integers.\")\n",
        "  heatmap.yaxis.set_ticklabels(heatmap.yaxis.get_ticklabels(), rotation=0, ha='right', fontsize=fontsize)\n",
        "  heatmap.xaxis.set_ticklabels(heatmap.xaxis.get_ticklabels(), rotation=45, ha='right', fontsize=fontsize)\n",
        "  plt.ylabel('True label')\n",
        "  plt.xlabel('Predicted label')\n",
        "  print(fig)"
      ],
      "metadata": {
        "id": "G0Ts8yg7TCio"
      },
      "execution_count": 12,
      "outputs": []
    },
    {
      "cell_type": "markdown",
      "source": [
        "# Carga de datos en memoria\n",
        "Aprox 10GB de RAM, dirigirse al a sección Pruebas si ya se tiene el modelo descargado y no se desea entrenar"
      ],
      "metadata": {
        "id": "OiWit_nb0u_V"
      }
    },
    {
      "cell_type": "code",
      "source": [
        "normal_data, normal_labels = process_images(normal_paths, label='normal')\n",
        "covid_data, covid_labels = process_images(covid_paths, label='covid')\n",
        "\n",
        "# Combinar los datos y las etiquetas de las dos clases\n",
        "data = np.concatenate([normal_data, covid_data], axis=0)\n",
        "labels = np.concatenate([normal_labels, covid_labels], axis=0)\n",
        "\n",
        "# Mostrar la forma de los datos y las etiquetas\n",
        "print(\"Forma de los datos:\", data.shape)\n",
        "print(\"Forma de las etiquetas:\", labels.shape)"
      ],
      "metadata": {
        "colab": {
          "base_uri": "https://localhost:8080/"
        },
        "id": "dPUFJVxShoMB",
        "outputId": "dd649c48-e67c-4b71-dcf9-8202189f8fd5"
      },
      "execution_count": 13,
      "outputs": [
        {
          "output_type": "stream",
          "name": "stdout",
          "text": [
            "Forma de los datos: (1572, 224, 224, 3)\n",
            "Forma de las etiquetas: (1572,)\n"
          ]
        }
      ]
    },
    {
      "cell_type": "code",
      "source": [
        "# Limpieza de memoria\n",
        "normal_data = []\n",
        "covid_data = []\n",
        "normal_labels = []\n",
        "covid_labels = []\n",
        "gc.collect()"
      ],
      "metadata": {
        "colab": {
          "base_uri": "https://localhost:8080/"
        },
        "id": "T7Pw7ilkXm_s",
        "outputId": "04f4116b-c102-425d-d969-e1177ed4758d"
      },
      "execution_count": 14,
      "outputs": [
        {
          "output_type": "execute_result",
          "data": {
            "text/plain": [
              "0"
            ]
          },
          "metadata": {},
          "execution_count": 14
        }
      ]
    },
    {
      "cell_type": "code",
      "source": [
        "# Codificar etiquetas en valores enteros\n",
        "label_encoder = LabelEncoder()\n",
        "labels_encoded = label_encoder.fit_transform(labels)\n",
        "labels_one_hot = to_categorical(labels_encoded)\n",
        "\n",
        "class_names = label_encoder.classes_.tolist()\n",
        "class_names"
      ],
      "metadata": {
        "colab": {
          "base_uri": "https://localhost:8080/"
        },
        "id": "Ebb1awpw3ptw",
        "outputId": "6c14007b-92ca-4cec-e0a8-ee6d56535354"
      },
      "execution_count": 15,
      "outputs": [
        {
          "output_type": "execute_result",
          "data": {
            "text/plain": [
              "['covid', 'normal']"
            ]
          },
          "metadata": {},
          "execution_count": 15
        }
      ]
    },
    {
      "cell_type": "code",
      "source": [
        "# Guardar encoder\n",
        "with open('label_encoder.pkl', 'wb') as f:\n",
        "  pickle.dump(label_encoder, f)"
      ],
      "metadata": {
        "id": "mAHz9SMdlGQ-"
      },
      "execution_count": 16,
      "outputs": []
    },
    {
      "cell_type": "code",
      "source": [
        "# Dividir los datos en conjuntos de entrenamiento y prueba\n",
        "X_train, X_val, Y_train, Y_val = train_test_split(data, labels_one_hot,test_size=VAL_SIZE, stratify=labels_one_hot, random_state=RANDOM_SEED)"
      ],
      "metadata": {
        "id": "am2xZGU11Fae"
      },
      "execution_count": 17,
      "outputs": []
    },
    {
      "cell_type": "markdown",
      "source": [
        "# Diseño Andrés"
      ],
      "metadata": {
        "id": "7EKauyNhmzUT"
      }
    },
    {
      "cell_type": "code",
      "source": [
        "from tensorflow.keras.models import Model\n",
        "from tensorflow.keras.layers import Input, AveragePooling2D, Flatten, Dense, Dropout\n",
        "from tensorflow.keras.applications import VGG16, MobileNetV2\n",
        "\n",
        "input_shape = data[0].shape\n",
        "\n",
        "# Cargar el modelo base MobileNetV2\n",
        "base_model = MobileNetV2(weights=\"imagenet\", include_top=False, input_shape=input_shape)\n",
        "\n",
        "# Obtener la salida del modelo base\n",
        "x = base_model.output\n",
        "\n",
        "# Agregar capas de AveragePooling, Flatten y capas completamente conectadas adicionales\n",
        "x = AveragePooling2D(pool_size=(4, 4))(x)\n",
        "x = Flatten(name=\"flatten\")(x)\n",
        "x = Dense(64, activation=\"relu\")(x)\n",
        "x = Dropout(0.5)(x)\n",
        "outputs = Dense(2, activation=\"softmax\")(x)\n",
        "\n",
        "# Definir el modelo completo con la entrada y la salida\n",
        "model_andres = Model(inputs=base_model.input, outputs=outputs)\n",
        "\n",
        "# Congelar las capas del modelo base\n",
        "for layer in base_model.layers:\n",
        "    layer.trainable = False\n"
      ],
      "metadata": {
        "id": "iBNvfLkgnHSt"
      },
      "execution_count": 21,
      "outputs": []
    },
    {
      "cell_type": "markdown",
      "source": [
        "# Entrenamiento\n",
        "A continuación, se realizará el entrenamiento del modelo"
      ],
      "metadata": {
        "id": "ehEu4fYHn0qc"
      }
    },
    {
      "cell_type": "code",
      "source": [
        "INIT_LR = 1e-3\n",
        "EPOCHS = 35\n",
        "BS = 8"
      ],
      "metadata": {
        "id": "diXf6IClRnNZ"
      },
      "execution_count": 23,
      "outputs": []
    },
    {
      "cell_type": "code",
      "source": [
        "from keras.optimizers import Adam\n",
        "\n",
        "opt = Adam(learning_rate=INIT_LR)\n",
        "model_andres.compile(loss=\"binary_crossentropy\", optimizer=opt, metrics=[\"accuracy\"])\n",
        "print(\"Compiling Starts\")\n",
        "\n",
        "history = model_andres.fit(X_train, Y_train,\n",
        "                    epochs=EPOCHS,\n",
        "                    batch_size=BS,\n",
        "                    validation_data=(X_val, Y_val))"
      ],
      "metadata": {
        "colab": {
          "base_uri": "https://localhost:8080/"
        },
        "id": "X6_xjU0sHfAd",
        "outputId": "d4de5ac8-ea34-4a2d-ff88-1905c49c7cd6"
      },
      "execution_count": 24,
      "outputs": [
        {
          "output_type": "stream",
          "name": "stdout",
          "text": [
            "Compiling Starts\n",
            "Epoch 1/35\n",
            "99/99 [==============================] - 12s 54ms/step - loss: 0.2165 - accuracy: 0.9249 - val_loss: 0.0552 - val_accuracy: 0.9758\n",
            "Epoch 2/35\n",
            "99/99 [==============================] - 2s 24ms/step - loss: 0.0647 - accuracy: 0.9771 - val_loss: 0.0439 - val_accuracy: 0.9873\n",
            "Epoch 3/35\n",
            "99/99 [==============================] - 2s 24ms/step - loss: 0.0362 - accuracy: 0.9885 - val_loss: 0.0391 - val_accuracy: 0.9924\n",
            "Epoch 4/35\n",
            "99/99 [==============================] - 2s 24ms/step - loss: 0.0333 - accuracy: 0.9885 - val_loss: 0.0350 - val_accuracy: 0.9924\n",
            "Epoch 5/35\n",
            "99/99 [==============================] - 2s 24ms/step - loss: 0.0313 - accuracy: 0.9898 - val_loss: 0.0316 - val_accuracy: 0.9911\n",
            "Epoch 6/35\n",
            "99/99 [==============================] - 2s 24ms/step - loss: 0.0172 - accuracy: 0.9936 - val_loss: 0.0393 - val_accuracy: 0.9936\n",
            "Epoch 7/35\n",
            "99/99 [==============================] - 2s 24ms/step - loss: 0.0141 - accuracy: 0.9962 - val_loss: 0.0387 - val_accuracy: 0.9873\n",
            "Epoch 8/35\n",
            "99/99 [==============================] - 2s 24ms/step - loss: 0.0160 - accuracy: 0.9949 - val_loss: 0.0403 - val_accuracy: 0.9936\n",
            "Epoch 9/35\n",
            "99/99 [==============================] - 2s 24ms/step - loss: 0.0078 - accuracy: 0.9987 - val_loss: 0.0397 - val_accuracy: 0.9873\n",
            "Epoch 10/35\n",
            "99/99 [==============================] - 2s 24ms/step - loss: 0.0118 - accuracy: 0.9987 - val_loss: 0.0373 - val_accuracy: 0.9911\n",
            "Epoch 11/35\n",
            "99/99 [==============================] - 2s 24ms/step - loss: 0.0112 - accuracy: 0.9962 - val_loss: 0.0368 - val_accuracy: 0.9936\n",
            "Epoch 12/35\n",
            "99/99 [==============================] - 2s 24ms/step - loss: 0.0065 - accuracy: 0.9987 - val_loss: 0.0449 - val_accuracy: 0.9911\n",
            "Epoch 13/35\n",
            "99/99 [==============================] - 2s 24ms/step - loss: 0.0042 - accuracy: 0.9987 - val_loss: 0.0449 - val_accuracy: 0.9911\n",
            "Epoch 14/35\n",
            "99/99 [==============================] - 2s 24ms/step - loss: 0.0036 - accuracy: 1.0000 - val_loss: 0.0449 - val_accuracy: 0.9898\n",
            "Epoch 15/35\n",
            "99/99 [==============================] - 2s 24ms/step - loss: 0.0023 - accuracy: 0.9987 - val_loss: 0.0424 - val_accuracy: 0.9924\n",
            "Epoch 16/35\n",
            "99/99 [==============================] - 2s 24ms/step - loss: 0.0033 - accuracy: 1.0000 - val_loss: 0.0444 - val_accuracy: 0.9936\n",
            "Epoch 17/35\n",
            "99/99 [==============================] - 2s 24ms/step - loss: 0.0027 - accuracy: 1.0000 - val_loss: 0.0485 - val_accuracy: 0.9898\n",
            "Epoch 18/35\n",
            "99/99 [==============================] - 2s 24ms/step - loss: 0.0015 - accuracy: 1.0000 - val_loss: 0.0493 - val_accuracy: 0.9924\n",
            "Epoch 19/35\n",
            "99/99 [==============================] - 2s 24ms/step - loss: 0.0011 - accuracy: 1.0000 - val_loss: 0.0488 - val_accuracy: 0.9898\n",
            "Epoch 20/35\n",
            "99/99 [==============================] - 2s 24ms/step - loss: 0.0017 - accuracy: 1.0000 - val_loss: 0.0472 - val_accuracy: 0.9936\n",
            "Epoch 21/35\n",
            "99/99 [==============================] - 2s 24ms/step - loss: 0.0023 - accuracy: 0.9987 - val_loss: 0.0570 - val_accuracy: 0.9898\n",
            "Epoch 22/35\n",
            "99/99 [==============================] - 2s 24ms/step - loss: 0.0019 - accuracy: 1.0000 - val_loss: 0.0508 - val_accuracy: 0.9911\n",
            "Epoch 23/35\n",
            "99/99 [==============================] - 2s 24ms/step - loss: 0.0015 - accuracy: 1.0000 - val_loss: 0.0520 - val_accuracy: 0.9936\n",
            "Epoch 24/35\n",
            "99/99 [==============================] - 2s 24ms/step - loss: 0.0016 - accuracy: 1.0000 - val_loss: 0.0504 - val_accuracy: 0.9898\n",
            "Epoch 25/35\n",
            "99/99 [==============================] - 2s 24ms/step - loss: 0.0049 - accuracy: 0.9987 - val_loss: 0.0444 - val_accuracy: 0.9949\n",
            "Epoch 26/35\n",
            "99/99 [==============================] - 2s 24ms/step - loss: 0.0040 - accuracy: 0.9987 - val_loss: 0.0705 - val_accuracy: 0.9924\n",
            "Epoch 27/35\n",
            "99/99 [==============================] - 2s 24ms/step - loss: 0.0025 - accuracy: 1.0000 - val_loss: 0.0531 - val_accuracy: 0.9911\n",
            "Epoch 28/35\n",
            "99/99 [==============================] - 2s 24ms/step - loss: 0.0017 - accuracy: 1.0000 - val_loss: 0.0503 - val_accuracy: 0.9924\n",
            "Epoch 29/35\n",
            "99/99 [==============================] - 2s 24ms/step - loss: 8.9677e-04 - accuracy: 1.0000 - val_loss: 0.0506 - val_accuracy: 0.9936\n",
            "Epoch 30/35\n",
            "99/99 [==============================] - 2s 24ms/step - loss: 4.3746e-04 - accuracy: 1.0000 - val_loss: 0.0518 - val_accuracy: 0.9949\n",
            "Epoch 31/35\n",
            "99/99 [==============================] - 2s 24ms/step - loss: 0.0012 - accuracy: 1.0000 - val_loss: 0.0544 - val_accuracy: 0.9924\n",
            "Epoch 32/35\n",
            "99/99 [==============================] - 2s 24ms/step - loss: 7.0404e-04 - accuracy: 1.0000 - val_loss: 0.0585 - val_accuracy: 0.9949\n",
            "Epoch 33/35\n",
            "99/99 [==============================] - 2s 24ms/step - loss: 8.7913e-04 - accuracy: 1.0000 - val_loss: 0.0562 - val_accuracy: 0.9924\n",
            "Epoch 34/35\n",
            "99/99 [==============================] - 2s 24ms/step - loss: 4.3913e-04 - accuracy: 1.0000 - val_loss: 0.0582 - val_accuracy: 0.9936\n",
            "Epoch 35/35\n",
            "99/99 [==============================] - 2s 24ms/step - loss: 4.0605e-04 - accuracy: 1.0000 - val_loss: 0.0615 - val_accuracy: 0.9924\n"
          ]
        }
      ]
    },
    {
      "cell_type": "code",
      "source": [
        "gc.collect()"
      ],
      "metadata": {
        "colab": {
          "base_uri": "https://localhost:8080/"
        },
        "id": "z7H4CJaHT88V",
        "outputId": "f6aaba73-ead5-4209-cbbe-a1ed43047777"
      },
      "execution_count": 25,
      "outputs": [
        {
          "output_type": "execute_result",
          "data": {
            "text/plain": [
              "15702"
            ]
          },
          "metadata": {},
          "execution_count": 25
        }
      ]
    },
    {
      "cell_type": "code",
      "source": [
        "# Guardar el modelo entrenado\n",
        "model_andres.save(\"modelo_andres.h5\")"
      ],
      "metadata": {
        "colab": {
          "base_uri": "https://localhost:8080/"
        },
        "id": "u4hk20mJoY4b",
        "outputId": "5d5fd753-e2fc-4f0b-9564-65e5b8c5a1b5"
      },
      "execution_count": 26,
      "outputs": [
        {
          "output_type": "stream",
          "name": "stderr",
          "text": [
            "/usr/local/lib/python3.10/dist-packages/keras/src/engine/training.py:3103: UserWarning: You are saving your model as an HDF5 file via `model.save()`. This file format is considered legacy. We recommend using instead the native Keras format, e.g. `model.save('my_model.keras')`.\n",
            "  saving_api.save_model(\n"
          ]
        }
      ]
    },
    {
      "cell_type": "markdown",
      "source": [
        "# Evaluación\n",
        "Se carga el mejor modelo por val_loss"
      ],
      "metadata": {
        "id": "zlD2x_NxsDYb"
      }
    },
    {
      "cell_type": "code",
      "source": [
        "# Cargar el modelo entrenado desde el archivo guardado\n",
        "best_model_andres = load_model(\"modelo_andres.h5\")\n",
        "best_epoch = np.argmax(history.history['val_accuracy'])"
      ],
      "metadata": {
        "id": "wnnmkDjx6y4f"
      },
      "execution_count": 27,
      "outputs": []
    },
    {
      "cell_type": "markdown",
      "source": [
        "Se grafican las curvas de la historia del entrenamiento"
      ],
      "metadata": {
        "id": "VHnZUXaasdlv"
      }
    },
    {
      "cell_type": "code",
      "source": [
        "epochs_range = range(EPOCHS)\n",
        "train_acc = history.history['accuracy']\n",
        "train_loss = history.history['loss']\n",
        "val_acc = history.history['val_accuracy']\n",
        "val_loss = history.history['val_loss']\n",
        "\n",
        "plt.figure(figsize=(20, 8))\n",
        "plt.subplot(1, 2, 1)\n",
        "plt.plot(epochs_range, train_acc, '-o', label='VGG16 + Dense Train Accuracy')\n",
        "plt.plot(epochs_range, val_acc, '-o', label='VGG16 + Dense Test Accuracy')\n",
        "plt.axvline(x=best_epoch, color='r', linestyle='--', label='Best Accuracy Epoch')\n",
        "plt.axhline(y=val_acc[best_epoch], color='r', linestyle=':', label='Best Accuracy Epoch')\n",
        "plt.xlabel('Epochs')\n",
        "plt.ylabel('Accuracy')\n",
        "plt.legend(loc='lower right')\n",
        "plt.title('Validation Accuracy')\n",
        "\n",
        "plt.subplot(1, 2, 2)\n",
        "plt.plot(epochs_range, train_loss, '-o', label='VGG16 + Dense Train Loss')\n",
        "plt.plot(epochs_range, val_loss, '-o', label='VGG16 + Dense Test Loss')\n",
        "plt.axvline(x=best_epoch, color='r', linestyle=':', label='Best Accuracy Epoch')\n",
        "plt.axhline(y=val_loss[best_epoch], color='r', linestyle='--', label='Best Accuracy Epoch')\n",
        "plt.xlabel('Epochs')\n",
        "plt.ylabel('Loss')\n",
        "plt.legend(loc='upper right')\n",
        "plt.title('Validation Loss')\n",
        "plt.show()"
      ],
      "metadata": {
        "colab": {
          "base_uri": "https://localhost:8080/",
          "height": 690
        },
        "id": "VEA5gQhYOYSq",
        "outputId": "d3aa567f-9841-4427-ee99-6afcba999d07"
      },
      "execution_count": 28,
      "outputs": [
        {
          "output_type": "display_data",
          "data": {
            "text/plain": [
              "<Figure size 2000x800 with 2 Axes>"
            ],
            "image/png": "[encoded data removed]"
          },
          "metadata": {}
        }
      ]
    },
    {
      "cell_type": "markdown",
      "source": [
        "Se muestra el reporte de clasificación"
      ],
      "metadata": {
        "id": "pvd1RrRKszYE"
      }
    },
    {
      "cell_type": "code",
      "source": [
        "Y_pred = best_model_andres.predict(X_val)"
      ],
      "metadata": {
        "colab": {
          "base_uri": "https://localhost:8080/"
        },
        "id": "y1woPepCsrj4",
        "outputId": "dbe21bbe-0ff0-4047-fb9b-f37585ce65f3"
      },
      "execution_count": 29,
      "outputs": [
        {
          "output_type": "stream",
          "name": "stdout",
          "text": [
            "25/25 [==============================] - 4s 67ms/step\n"
          ]
        }
      ]
    },
    {
      "cell_type": "code",
      "source": [
        "cr = classification_report(Y_val.argmax(axis=1), Y_pred.argmax(axis=1),target_names=class_names,output_dict=True)\n",
        "mostrar_df_estilizado(pd.DataFrame(cr))"
      ],
      "metadata": {
        "colab": {
          "base_uri": "https://localhost:8080/",
          "height": 175
        },
        "id": "wB9YRE4lx4vf",
        "outputId": "5c3760d1-9955-4d70-a649-66e13740f5c5"
      },
      "execution_count": 30,
      "outputs": [
        {
          "output_type": "execute_result",
          "data": {
            "text/plain": [
              "<pandas.io.formats.style.Styler at 0x7881d869f070>"
            ],
            "text/html": [
              "<style type=\"text/css\">\n",
              "#T_6cd35 th {\n",
              "  text-align: center;\n",
              "  background-color: #f4f4f4;\n",
              "  color: black;\n",
              "}\n",
              "#T_6cd35_row0_col0, #T_6cd35_row0_col1, #T_6cd35_row0_col2, #T_6cd35_row0_col3, #T_6cd35_row0_col4, #T_6cd35_row1_col0, #T_6cd35_row1_col1, #T_6cd35_row1_col2, #T_6cd35_row1_col3, #T_6cd35_row1_col4, #T_6cd35_row2_col0, #T_6cd35_row2_col1, #T_6cd35_row2_col2, #T_6cd35_row2_col3, #T_6cd35_row2_col4, #T_6cd35_row3_col0, #T_6cd35_row3_col1, #T_6cd35_row3_col2, #T_6cd35_row3_col3, #T_6cd35_row3_col4 {\n",
              "  text-align: center;\n",
              "  font-size: 10pt;\n",
              "  background-color: white;\n",
              "  color: black;\n",
              "}\n",
              "</style>\n",
              "<table id=\"T_6cd35\" class=\"dataframe\">\n",
              "  <thead>\n",
              "    <tr>\n",
              "      <th class=\"blank level0\" >&nbsp;</th>\n",
              "      <th id=\"T_6cd35_level0_col0\" class=\"col_heading level0 col0\" >covid</th>\n",
              "      <th id=\"T_6cd35_level0_col1\" class=\"col_heading level0 col1\" >normal</th>\n",
              "      <th id=\"T_6cd35_level0_col2\" class=\"col_heading level0 col2\" >accuracy</th>\n",
              "      <th id=\"T_6cd35_level0_col3\" class=\"col_heading level0 col3\" >macro avg</th>\n",
              "      <th id=\"T_6cd35_level0_col4\" class=\"col_heading level0 col4\" >weighted avg</th>\n",
              "    </tr>\n",
              "  </thead>\n",
              "  <tbody>\n",
              "    <tr>\n",
              "      <th id=\"T_6cd35_level0_row0\" class=\"row_heading level0 row0\" >precision</th>\n",
              "      <td id=\"T_6cd35_row0_col0\" class=\"data row0 col0\" >0.9781</td>\n",
              "      <td id=\"T_6cd35_row0_col1\" class=\"data row0 col1\" >0.9954</td>\n",
              "      <td id=\"T_6cd35_row0_col2\" class=\"data row0 col2\" >0.9924</td>\n",
              "      <td id=\"T_6cd35_row0_col3\" class=\"data row0 col3\" >0.9867</td>\n",
              "      <td id=\"T_6cd35_row0_col4\" class=\"data row0 col4\" >0.9924</td>\n",
              "    </tr>\n",
              "    <tr>\n",
              "      <th id=\"T_6cd35_level0_row1\" class=\"row_heading level0 row1\" >recall</th>\n",
              "      <td id=\"T_6cd35_row1_col0\" class=\"data row1 col0\" >0.9781</td>\n",
              "      <td id=\"T_6cd35_row1_col1\" class=\"data row1 col1\" >0.9954</td>\n",
              "      <td id=\"T_6cd35_row1_col2\" class=\"data row1 col2\" >0.9924</td>\n",
              "      <td id=\"T_6cd35_row1_col3\" class=\"data row1 col3\" >0.9867</td>\n",
              "      <td id=\"T_6cd35_row1_col4\" class=\"data row1 col4\" >0.9924</td>\n",
              "    </tr>\n",
              "    <tr>\n",
              "      <th id=\"T_6cd35_level0_row2\" class=\"row_heading level0 row2\" >f1-score</th>\n",
              "      <td id=\"T_6cd35_row2_col0\" class=\"data row2 col0\" >0.9781</td>\n",
              "      <td id=\"T_6cd35_row2_col1\" class=\"data row2 col1\" >0.9954</td>\n",
              "      <td id=\"T_6cd35_row2_col2\" class=\"data row2 col2\" >0.9924</td>\n",
              "      <td id=\"T_6cd35_row2_col3\" class=\"data row2 col3\" >0.9867</td>\n",
              "      <td id=\"T_6cd35_row2_col4\" class=\"data row2 col4\" >0.9924</td>\n",
              "    </tr>\n",
              "    <tr>\n",
              "      <th id=\"T_6cd35_level0_row3\" class=\"row_heading level0 row3\" >support</th>\n",
              "      <td id=\"T_6cd35_row3_col0\" class=\"data row3 col0\" >137.0000</td>\n",
              "      <td id=\"T_6cd35_row3_col1\" class=\"data row3 col1\" >649.0000</td>\n",
              "      <td id=\"T_6cd35_row3_col2\" class=\"data row3 col2\" >0.9924</td>\n",
              "      <td id=\"T_6cd35_row3_col3\" class=\"data row3 col3\" >786.0000</td>\n",
              "      <td id=\"T_6cd35_row3_col4\" class=\"data row3 col4\" >786.0000</td>\n",
              "    </tr>\n",
              "  </tbody>\n",
              "</table>\n"
            ]
          },
          "metadata": {},
          "execution_count": 30
        }
      ]
    },
    {
      "cell_type": "markdown",
      "source": [
        "Se muestra la matriz de confusión"
      ],
      "metadata": {
        "id": "K1VsKU2HtiQc"
      }
    },
    {
      "cell_type": "code",
      "source": [
        "cm = confusion_matrix(Y_val.argmax(axis=1), Y_pred.argmax(axis=1))\n",
        "total = sum(sum(cm))\n",
        "acc = (cm[0, 0] + cm[1, 1]) / total\n",
        "sensitivity = cm[0, 0] / (cm[0, 0] + cm[0, 1])\n",
        "specificity = cm[1, 1] / (cm[1, 0] + cm[1, 1])\n",
        "\n",
        "print(\"acc: {:.2f}%\".format(acc*100))\n",
        "print(\"sensitivity: {:.2f}%\".format(sensitivity*100))\n",
        "print(\"specificity: {:.2f}%\".format(specificity*100))"
      ],
      "metadata": {
        "colab": {
          "base_uri": "https://localhost:8080/"
        },
        "id": "ob5wrW4UPzkE",
        "outputId": "e03428b6-01df-4b7e-871b-96bb95ab315a"
      },
      "execution_count": 31,
      "outputs": [
        {
          "output_type": "stream",
          "name": "stdout",
          "text": [
            "acc: 99.24%\n",
            "sensitivity: 97.81%\n",
            "specificity: 99.54%\n"
          ]
        }
      ]
    },
    {
      "cell_type": "code",
      "source": [
        "print_confusion_matrix(cm,class_names)"
      ],
      "metadata": {
        "colab": {
          "base_uri": "https://localhost:8080/",
          "height": 435
        },
        "id": "rRDqgtXkTKil",
        "outputId": "07a234fa-de6f-4cce-cbc6-90e91b7d9a2c"
      },
      "execution_count": 32,
      "outputs": [
        {
          "output_type": "stream",
          "name": "stdout",
          "text": [
            "Figure(500x400)\n"
          ]
        },
        {
          "output_type": "display_data",
          "data": {
            "text/plain": [
              "<Figure size 500x400 with 2 Axes>"
            ],
            "image/png": "[encoded data removed]"
          },
          "metadata": {}
        }
      ]
    },
    {
      "cell_type": "markdown",
      "source": [
        "# Pruebas\n",
        "Se realizará la prueba del modelo en el 30% restante del dataset"
      ],
      "metadata": {
        "id": "TPi7GdvhAmbz"
      }
    },
    {
      "cell_type": "code",
      "source": [
        "# Fija la semilla aleatoria para replicabilidad\n",
        "random.seed(RANDOM_SEED)\n",
        "\n",
        "# Obtén la muestra del 70%\n",
        "sample_size_normal = int(len(full_normal_paths) * SAMPLE_SIZE)\n",
        "normal_paths_sample = random.sample(full_normal_paths, sample_size_normal)\n",
        "\n",
        "sample_size_covid = int(len(full_covid_paths) * SAMPLE_SIZE)\n",
        "covid_paths_sample = random.sample(full_covid_paths, sample_size_covid)\n",
        "\n",
        "# Obtén el 30% restante\n",
        "normal_paths_test = [path for path in full_normal_paths if path not in normal_paths_sample]\n",
        "covid_paths_test = [path for path in full_covid_paths if path not in covid_paths_sample]"
      ],
      "metadata": {
        "id": "kCwzp_pAAoHf"
      },
      "execution_count": 33,
      "outputs": []
    },
    {
      "cell_type": "code",
      "source": [
        "print(\"Normales imágenes:\", len(normal_paths_test))\n",
        "print('Covid imágenes:', len(covid_paths_test))\n",
        "print('Total imágenes:', len(normal_paths_test) + len(covid_paths_test))"
      ],
      "metadata": {
        "colab": {
          "base_uri": "https://localhost:8080/"
        },
        "id": "fjxdVzj67_Mk",
        "outputId": "45e9adf4-dabc-4d0e-f342-371ef0cd757d"
      },
      "execution_count": 34,
      "outputs": [
        {
          "output_type": "stream",
          "name": "stdout",
          "text": [
            "Normales imágenes: 69\n",
            "Covid imágenes: 15\n",
            "Total imágenes: 84\n"
          ]
        }
      ]
    },
    {
      "cell_type": "code",
      "source": [
        "data = []\n",
        "labels = []\n",
        "gc.collect()"
      ],
      "metadata": {
        "colab": {
          "base_uri": "https://localhost:8080/"
        },
        "id": "MQBIJBEj7EiV",
        "outputId": "d8d96a7e-ea5f-443d-9675-168e6238f7d0"
      },
      "execution_count": 35,
      "outputs": [
        {
          "output_type": "execute_result",
          "data": {
            "text/plain": [
              "14512"
            ]
          },
          "metadata": {},
          "execution_count": 35
        }
      ]
    },
    {
      "cell_type": "code",
      "source": [
        "normal_data_test, normal_labels_test = process_images(normal_paths_test, label='normal')\n",
        "covid_data_test, covid_labels_test = process_images(covid_paths_test, label='covid')\n",
        "\n",
        "# Combinar los datos y las etiquetas de las dos clases\n",
        "data = np.concatenate([normal_data_test, covid_data_test], axis=0)\n",
        "labels = np.concatenate([normal_labels_test, covid_labels_test], axis=0)\n",
        "\n",
        "# Mostrar la forma de los datos y las etiquetas\n",
        "print(\"Forma de los datos:\", data.shape)\n",
        "print(\"Forma de las etiquetas:\", labels.shape)"
      ],
      "metadata": {
        "colab": {
          "base_uri": "https://localhost:8080/"
        },
        "id": "rWogcxfLytUS",
        "outputId": "dac91a98-ddef-4276-8038-4b24426b3b50"
      },
      "execution_count": 36,
      "outputs": [
        {
          "output_type": "stream",
          "name": "stdout",
          "text": [
            "Forma de los datos: (84, 224, 224, 3)\n",
            "Forma de las etiquetas: (84,)\n"
          ]
        }
      ]
    },
    {
      "cell_type": "code",
      "source": [
        "# Liberar memoria\n",
        "normal_data_test = []\n",
        "covid_data_test = []\n",
        "normal_labels_test = []\n",
        "covid_labels_test = []\n",
        "gc.collect()"
      ],
      "metadata": {
        "colab": {
          "base_uri": "https://localhost:8080/"
        },
        "id": "7r7l59Xd12ML",
        "outputId": "32a28bba-a2ed-4f01-f60e-de0c47439ba8"
      },
      "execution_count": 37,
      "outputs": [
        {
          "output_type": "execute_result",
          "data": {
            "text/plain": [
              "0"
            ]
          },
          "metadata": {},
          "execution_count": 37
        }
      ]
    },
    {
      "cell_type": "code",
      "source": [
        "# Cargar encoder\n",
        "with open('label_encoder.pkl', 'rb') as f:\n",
        "    label_encoder = pickle.load(f)"
      ],
      "metadata": {
        "id": "GNqRQxna177_"
      },
      "execution_count": 38,
      "outputs": []
    },
    {
      "cell_type": "code",
      "source": [
        "# Codificar etiquetas en valores enteros\n",
        "labels_encoded = label_encoder.transform(labels)\n",
        "Y_test = to_categorical(labels_encoded)\n",
        "\n",
        "class_names = label_encoder.classes_.tolist()\n",
        "class_names"
      ],
      "metadata": {
        "colab": {
          "base_uri": "https://localhost:8080/"
        },
        "id": "9WGPgxpR10eT",
        "outputId": "8d1f9048-82d2-4f47-b681-a101a8c36b0c"
      },
      "execution_count": 39,
      "outputs": [
        {
          "output_type": "execute_result",
          "data": {
            "text/plain": [
              "['covid', 'normal']"
            ]
          },
          "metadata": {},
          "execution_count": 39
        }
      ]
    },
    {
      "cell_type": "code",
      "source": [
        "# Cargar el modelo entrenado desde el archivo guardado\n",
        "best_model_andres = load_model(\"modelo_andres.h5\")\n",
        "Y_pred = best_model_andres.predict(data)"
      ],
      "metadata": {
        "colab": {
          "base_uri": "https://localhost:8080/"
        },
        "id": "UuWWZYFA2UOS",
        "outputId": "bce81765-b990-44b6-d33e-99ee93526c45"
      },
      "execution_count": 40,
      "outputs": [
        {
          "output_type": "stream",
          "name": "stdout",
          "text": [
            "3/3 [==============================] - 2s 448ms/step\n"
          ]
        }
      ]
    },
    {
      "cell_type": "code",
      "source": [
        "cr = classification_report(Y_test.argmax(axis=1), Y_pred.argmax(axis=1),target_names=class_names,output_dict=True)\n",
        "mostrar_df_estilizado(pd.DataFrame(cr))"
      ],
      "metadata": {
        "colab": {
          "base_uri": "https://localhost:8080/",
          "height": 175
        },
        "id": "KBbJCITQBdF-",
        "outputId": "fd30d15b-f493-41a2-8721-99015614fd55"
      },
      "execution_count": 41,
      "outputs": [
        {
          "output_type": "execute_result",
          "data": {
            "text/plain": [
              "<pandas.io.formats.style.Styler at 0x7881fc79aec0>"
            ],
            "text/html": [
              "<style type=\"text/css\">\n",
              "#T_676d9 th {\n",
              "  text-align: center;\n",
              "  background-color: #f4f4f4;\n",
              "  color: black;\n",
              "}\n",
              "#T_676d9_row0_col0, #T_676d9_row0_col1, #T_676d9_row0_col2, #T_676d9_row0_col3, #T_676d9_row0_col4, #T_676d9_row1_col0, #T_676d9_row1_col1, #T_676d9_row1_col2, #T_676d9_row1_col3, #T_676d9_row1_col4, #T_676d9_row2_col0, #T_676d9_row2_col1, #T_676d9_row2_col2, #T_676d9_row2_col3, #T_676d9_row2_col4, #T_676d9_row3_col0, #T_676d9_row3_col1, #T_676d9_row3_col2, #T_676d9_row3_col3, #T_676d9_row3_col4 {\n",
              "  text-align: center;\n",
              "  font-size: 10pt;\n",
              "  background-color: white;\n",
              "  color: black;\n",
              "}\n",
              "</style>\n",
              "<table id=\"T_676d9\" class=\"dataframe\">\n",
              "  <thead>\n",
              "    <tr>\n",
              "      <th class=\"blank level0\" >&nbsp;</th>\n",
              "      <th id=\"T_676d9_level0_col0\" class=\"col_heading level0 col0\" >covid</th>\n",
              "      <th id=\"T_676d9_level0_col1\" class=\"col_heading level0 col1\" >normal</th>\n",
              "      <th id=\"T_676d9_level0_col2\" class=\"col_heading level0 col2\" >accuracy</th>\n",
              "      <th id=\"T_676d9_level0_col3\" class=\"col_heading level0 col3\" >macro avg</th>\n",
              "      <th id=\"T_676d9_level0_col4\" class=\"col_heading level0 col4\" >weighted avg</th>\n",
              "    </tr>\n",
              "  </thead>\n",
              "  <tbody>\n",
              "    <tr>\n",
              "      <th id=\"T_676d9_level0_row0\" class=\"row_heading level0 row0\" >precision</th>\n",
              "      <td id=\"T_676d9_row0_col0\" class=\"data row0 col0\" >0.9375</td>\n",
              "      <td id=\"T_676d9_row0_col1\" class=\"data row0 col1\" >1.0000</td>\n",
              "      <td id=\"T_676d9_row0_col2\" class=\"data row0 col2\" >0.9881</td>\n",
              "      <td id=\"T_676d9_row0_col3\" class=\"data row0 col3\" >0.9688</td>\n",
              "      <td id=\"T_676d9_row0_col4\" class=\"data row0 col4\" >0.9888</td>\n",
              "    </tr>\n",
              "    <tr>\n",
              "      <th id=\"T_676d9_level0_row1\" class=\"row_heading level0 row1\" >recall</th>\n",
              "      <td id=\"T_676d9_row1_col0\" class=\"data row1 col0\" >1.0000</td>\n",
              "      <td id=\"T_676d9_row1_col1\" class=\"data row1 col1\" >0.9855</td>\n",
              "      <td id=\"T_676d9_row1_col2\" class=\"data row1 col2\" >0.9881</td>\n",
              "      <td id=\"T_676d9_row1_col3\" class=\"data row1 col3\" >0.9928</td>\n",
              "      <td id=\"T_676d9_row1_col4\" class=\"data row1 col4\" >0.9881</td>\n",
              "    </tr>\n",
              "    <tr>\n",
              "      <th id=\"T_676d9_level0_row2\" class=\"row_heading level0 row2\" >f1-score</th>\n",
              "      <td id=\"T_676d9_row2_col0\" class=\"data row2 col0\" >0.9677</td>\n",
              "      <td id=\"T_676d9_row2_col1\" class=\"data row2 col1\" >0.9927</td>\n",
              "      <td id=\"T_676d9_row2_col2\" class=\"data row2 col2\" >0.9881</td>\n",
              "      <td id=\"T_676d9_row2_col3\" class=\"data row2 col3\" >0.9802</td>\n",
              "      <td id=\"T_676d9_row2_col4\" class=\"data row2 col4\" >0.9882</td>\n",
              "    </tr>\n",
              "    <tr>\n",
              "      <th id=\"T_676d9_level0_row3\" class=\"row_heading level0 row3\" >support</th>\n",
              "      <td id=\"T_676d9_row3_col0\" class=\"data row3 col0\" >15.0000</td>\n",
              "      <td id=\"T_676d9_row3_col1\" class=\"data row3 col1\" >69.0000</td>\n",
              "      <td id=\"T_676d9_row3_col2\" class=\"data row3 col2\" >0.9881</td>\n",
              "      <td id=\"T_676d9_row3_col3\" class=\"data row3 col3\" >84.0000</td>\n",
              "      <td id=\"T_676d9_row3_col4\" class=\"data row3 col4\" >84.0000</td>\n",
              "    </tr>\n",
              "  </tbody>\n",
              "</table>\n"
            ]
          },
          "metadata": {},
          "execution_count": 41
        }
      ]
    },
    {
      "cell_type": "code",
      "source": [
        "cm = confusion_matrix(Y_test.argmax(axis=1), Y_pred.argmax(axis=1))\n",
        "total = sum(sum(cm))\n",
        "acc = (cm[0, 0] + cm[1, 1]) / total\n",
        "sensitivity = cm[0, 0] / (cm[0, 0] + cm[0, 1])\n",
        "specificity = cm[1, 1] / (cm[1, 0] + cm[1, 1])\n",
        "\n",
        "print(\"acc: {:.2f}%\".format(acc*100))\n",
        "print(\"sensitivity: {:.2f}%\".format(sensitivity*100))\n",
        "print(\"specificity: {:.2f}%\".format(specificity*100))"
      ],
      "metadata": {
        "colab": {
          "base_uri": "https://localhost:8080/"
        },
        "id": "7K5NxtPy3Ie3",
        "outputId": "8cc2b561-c39d-45e4-fb8e-c39d0af451d9"
      },
      "execution_count": 42,
      "outputs": [
        {
          "output_type": "stream",
          "name": "stdout",
          "text": [
            "acc: 98.81%\n",
            "sensitivity: 100.00%\n",
            "specificity: 98.55%\n"
          ]
        }
      ]
    },
    {
      "cell_type": "code",
      "source": [
        "print_confusion_matrix(cm,class_names)"
      ],
      "metadata": {
        "colab": {
          "base_uri": "https://localhost:8080/",
          "height": 435
        },
        "id": "8p87xDfWag_X",
        "outputId": "9ec218d1-2209-45dd-874f-6c54b0c79430"
      },
      "execution_count": 43,
      "outputs": [
        {
          "output_type": "stream",
          "name": "stdout",
          "text": [
            "Figure(500x400)\n"
          ]
        },
        {
          "output_type": "display_data",
          "data": {
            "text/plain": [
              "<Figure size 500x400 with 2 Axes>"
            ],
            "image/png": "[encoded data removed]"
          },
          "metadata": {}
        }
      ]
    }
  ]
}