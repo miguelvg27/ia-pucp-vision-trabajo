{
  "nbformat": 4,
  "nbformat_minor": 0,
  "metadata": {
    "colab": {
      "provenance": [],
      "gpuType": "T4",
      "machine_shape": "hm"
    },
    "kernelspec": {
      "name": "python3",
      "display_name": "Python 3"
    },
    "language_info": {
      "name": "python"
    },
    "accelerator": "GPU"
  },
  "cells": [
    {
      "cell_type": "markdown",
      "source": [
        "# Importación de librerías\n",
        "A continuación, se importan las librerías a utilizar en el notebook"
      ],
      "metadata": {
        "id": "FJMsmITufKLZ"
      }
    },
    {
      "cell_type": "code",
      "source": [
        "# Librerías de TensorFlow y Keras\n",
        "import tensorflow as tf\n",
        "from tensorflow.keras.preprocessing.image import ImageDataGenerator\n",
        "from tensorflow.keras.applications import VGG16, ResNet50, mobilenet_v2\n",
        "from tensorflow.keras.layers import Activation, Dropout, Dense, Flatten, BatchNormalization, Conv2D, MaxPooling2D, Lambda, Input, AveragePooling2D\n",
        "from tensorflow.keras.models import Model, Sequential, load_model\n",
        "from tensorflow.keras.optimizers import Adam\n",
        "from tensorflow.keras.initializers import he_uniform\n",
        "from tensorflow.keras.utils import to_categorical\n",
        "from tensorflow.keras.callbacks import EarlyStopping, ModelCheckpoint\n",
        "\n",
        "# Librerías de SciKit Learn\n",
        "from sklearn.preprocessing import LabelEncoder\n",
        "from sklearn.model_selection import train_test_split\n",
        "from sklearn.metrics import classification_report, confusion_matrix\n",
        "\n",
        "# Procesamiento de imágenes\n",
        "import skimage\n",
        "from skimage.transform import resize\n",
        "import cv2\n",
        "\n",
        "# Utilidades generales\n",
        "import numpy as np\n",
        "import pandas as pd\n",
        "import matplotlib.pyplot as plt\n",
        "import seaborn as sns\n",
        "import random\n",
        "import shutil\n",
        "import os\n",
        "import zipfile\n",
        "import pickle\n",
        "\n",
        "# Google Colab\n",
        "import gdown\n",
        "\n",
        "# Limpieza de memoria\n",
        "import gc"
      ],
      "metadata": {
        "id": "7CXhCpyCAImw"
      },
      "execution_count": 1,
      "outputs": []
    },
    {
      "cell_type": "code",
      "source": [
        "RANDOM_SEED = 42\n",
        "SAMPLE_SIZE = 0.95\n",
        "VAL_SIZE = 0.5"
      ],
      "metadata": {
        "id": "js2D5vOa4rbR"
      },
      "execution_count": 2,
      "outputs": []
    },
    {
      "cell_type": "markdown",
      "source": [
        "# Descarga de dataset\n",
        "Se utilizarán diferentes datasets para el entrenamiento/validación y las pruebas"
      ],
      "metadata": {
        "id": "FAoi7ks2fhSB"
      }
    },
    {
      "cell_type": "markdown",
      "source": [
        "Dataset: https://www.kaggle.com/datasets/tawsifurrahman/covid19-radiography-database"
      ],
      "metadata": {
        "id": "IShULG92apFL"
      }
    },
    {
      "cell_type": "markdown",
      "source": [
        "Cargar archivos de Google Drive"
      ],
      "metadata": {
        "id": "vEyA9MH_f9om"
      }
    },
    {
      "cell_type": "code",
      "source": [
        "#gdown.download('https://drive.google.com/uc?id=1VM68wfY1XJXsLAVvZ1dru2840iE_HDRp', quiet=False) # dataset v2\n",
        "gdown.download('https://drive.google.com/uc?id=1A2HJnCGaO-ta7pBAE7l2aJR79tD2zD3h', quiet=False) # dataset v1\n",
        "#gdown.download('https://drive.google.com/uc?id=1K3KSWVCoogKVBQGBPuFDV-Dvx6bbueBw', quiet=False) # encoder entrenado\n",
        "#gdown.download('https://drive.google.com/uc?id=1LIF6h8GFLsZnsr7eoSe1evfWX7KWTI6L', quiet=False) # modelo entrenado"
      ],
      "metadata": {
        "colab": {
          "base_uri": "https://localhost:8080/",
          "height": 122
        },
        "id": "iuRr6RISAcJE",
        "outputId": "5fa39f14-5d08-4b9a-c5fc-ddc802465a40"
      },
      "execution_count": 3,
      "outputs": [
        {
          "output_type": "stream",
          "name": "stderr",
          "text": [
            "Downloading...\n",
            "From (original): https://drive.google.com/uc?id=1A2HJnCGaO-ta7pBAE7l2aJR79tD2zD3h\n",
            "From (redirected): https://drive.google.com/uc?id=1A2HJnCGaO-ta7pBAE7l2aJR79tD2zD3h&confirm=t&uuid=3dd3f1a0-3ec7-4a2e-9b36-8ed38c06b99c\n",
            "To: /content/covid_v1.zip\n",
            "100%|██████████| 758M/758M [00:05<00:00, 135MB/s]\n"
          ]
        },
        {
          "output_type": "execute_result",
          "data": {
            "text/plain": [
              "'covid_v1.zip'"
            ],
            "application/vnd.google.colaboratory.intrinsic+json": {
              "type": "string"
            }
          },
          "metadata": {},
          "execution_count": 3
        }
      ]
    },
    {
      "cell_type": "code",
      "source": [
        "fileTrainVal = 'covid_v1.zip'\n",
        "folderTrainVal = './trainval'"
      ],
      "metadata": {
        "id": "1h5tQY96fIGr"
      },
      "execution_count": 4,
      "outputs": []
    },
    {
      "cell_type": "code",
      "source": [
        "with zipfile.ZipFile(fileTrainVal, 'r') as zip_ref:\n",
        "  zip_ref.extractall(folderTrainVal)"
      ],
      "metadata": {
        "id": "crVvCk7cTdBj"
      },
      "execution_count": 5,
      "outputs": []
    },
    {
      "cell_type": "markdown",
      "source": [
        "El 95% del dataset se utilizará para entrenamiento y validación. El 5% restante para pruebas"
      ],
      "metadata": {
        "id": "6WrFxJ2wgeE8"
      }
    },
    {
      "cell_type": "code",
      "source": [
        "# Obtener la lista de rutas de las imágenes en las carpetas \"normal\" y \"covid\"\n",
        "normal_folder = os.path.join(folderTrainVal, 'dataset/normal')\n",
        "covid_folder = os.path.join(folderTrainVal, 'dataset/covid')\n",
        "\n",
        "full_normal_paths = [os.path.join(normal_folder, filename) for filename in os.listdir(normal_folder)]\n",
        "full_covid_paths = [os.path.join(covid_folder, filename) for filename in os.listdir(covid_folder)]"
      ],
      "metadata": {
        "id": "PXC4kVyuz-E6"
      },
      "execution_count": 6,
      "outputs": []
    },
    {
      "cell_type": "code",
      "source": [
        "print(\"Normales imágenes:\", len(full_normal_paths))\n",
        "print('Covid imágenes:', len(full_covid_paths))\n",
        "print('Total imágenes:', len(full_normal_paths) + len(full_covid_paths))"
      ],
      "metadata": {
        "colab": {
          "base_uri": "https://localhost:8080/"
        },
        "id": "8QAP_d_M8aax",
        "outputId": "34d52d9f-026a-4821-df79-5cbbb2e65615"
      },
      "execution_count": 7,
      "outputs": [
        {
          "output_type": "stream",
          "name": "stdout",
          "text": [
            "Normales imágenes: 1366\n",
            "Covid imágenes: 290\n",
            "Total imágenes: 1656\n"
          ]
        }
      ]
    },
    {
      "cell_type": "code",
      "source": [
        "random.seed(RANDOM_SEED)\n",
        "\n",
        "sample_size = int(len(full_normal_paths) * SAMPLE_SIZE)\n",
        "normal_paths = random.sample(full_normal_paths, sample_size)\n",
        "\n",
        "sample_size = int(len(full_covid_paths) * SAMPLE_SIZE)\n",
        "covid_paths = random.sample(full_covid_paths, sample_size)"
      ],
      "metadata": {
        "id": "gsBJRGaHhY2c"
      },
      "execution_count": 8,
      "outputs": []
    },
    {
      "cell_type": "code",
      "source": [
        "print(\"Normales imágenes:\", len(normal_paths))\n",
        "print('Covid imágenes:', len(covid_paths))\n",
        "print('Total imágenes:', len(normal_paths) + len(covid_paths))"
      ],
      "metadata": {
        "colab": {
          "base_uri": "https://localhost:8080/"
        },
        "id": "dLqZ6mC0jK3o",
        "outputId": "dbd552bf-c310-46dd-b750-29af7a7dd92b"
      },
      "execution_count": 9,
      "outputs": [
        {
          "output_type": "stream",
          "name": "stdout",
          "text": [
            "Normales imágenes: 1297\n",
            "Covid imágenes: 275\n",
            "Total imágenes: 1572\n"
          ]
        }
      ]
    },
    {
      "cell_type": "markdown",
      "source": [
        "Funciones auxiliares"
      ],
      "metadata": {
        "id": "qVNgIZ00CBTd"
      }
    },
    {
      "cell_type": "code",
      "source": [
        "# Función para procesar las imágenes\n",
        "def process_images(image_paths, label):\n",
        "  data = []\n",
        "  labels = []\n",
        "  for image_path in image_paths:\n",
        "    # Leer la imagen\n",
        "    image = cv2.imread(image_path)\n",
        "    # Convertir la imagen a RGB\n",
        "    image = cv2.cvtColor(image, cv2.COLOR_BGR2RGB)\n",
        "    # Redimensionar la imagen a 224x224 píxeles\n",
        "    image = cv2.resize(image, (224, 224))\n",
        "    # Normalizar los valores de píxeles\n",
        "    image = image / 255.0\n",
        "    # Agregar la imagen y su etiqueta a las listas de datos y etiquetas\n",
        "    data.append(image)\n",
        "    labels.append(label)\n",
        "  return data, labels"
      ],
      "metadata": {
        "id": "dDMOQa7NhO-c"
      },
      "execution_count": 10,
      "outputs": []
    },
    {
      "cell_type": "code",
      "source": [
        "# función auxiliar para graficar el reporte\n",
        "def mostrar_df_estilizado(df):\n",
        "  styled_df = df.style\\\n",
        "    .set_properties(**{'text-align': 'center', 'font-size': '10pt'})\\\n",
        "    .set_properties(subset=pd.IndexSlice[:, df.select_dtypes(include=[object]).columns],\n",
        "      **{'background-color': 'white', 'color': 'black'})\\\n",
        "    .set_properties(**{'background-color': 'white', 'color': 'black'})\\\n",
        "    .set_table_styles([{'selector': 'th', 'props': [('text-align', 'center'),('background-color', '#f4f4f4'),('color', 'black')]}])\\\n",
        "    .format(precision=4)\n",
        "  return styled_df"
      ],
      "metadata": {
        "id": "OiaxayNNWTnk"
      },
      "execution_count": 11,
      "outputs": []
    },
    {
      "cell_type": "code",
      "source": [
        "def print_confusion_matrix(confusion_matrix, class_names, figsize = (5,4), fontsize=10):\n",
        "  df_cm = pd.DataFrame(confusion_matrix, index=class_names, columns=class_names)\n",
        "  fig = plt.figure(figsize=figsize)\n",
        "  try:\n",
        "    heatmap = sns.heatmap(df_cm, annot=True, fmt=\"d\", cmap='crest')\n",
        "  except ValueError:\n",
        "    raise ValueError(\"Confusion matrix values must be integers.\")\n",
        "  heatmap.yaxis.set_ticklabels(heatmap.yaxis.get_ticklabels(), rotation=0, ha='right', fontsize=fontsize)\n",
        "  heatmap.xaxis.set_ticklabels(heatmap.xaxis.get_ticklabels(), rotation=45, ha='right', fontsize=fontsize)\n",
        "  plt.ylabel('True label')\n",
        "  plt.xlabel('Predicted label')\n",
        "  print(fig)"
      ],
      "metadata": {
        "id": "G0Ts8yg7TCio"
      },
      "execution_count": 12,
      "outputs": []
    },
    {
      "cell_type": "markdown",
      "source": [
        "# Carga de datos en memoria\n",
        "Aprox 10GB de RAM, dirigirse al a sección Pruebas si ya se tiene el modelo descargado y no se desea entrenar"
      ],
      "metadata": {
        "id": "OiWit_nb0u_V"
      }
    },
    {
      "cell_type": "code",
      "source": [
        "normal_data, normal_labels = process_images(normal_paths, label='normal')\n",
        "covid_data, covid_labels = process_images(covid_paths, label='covid')\n",
        "\n",
        "# Combinar los datos y las etiquetas de las dos clases\n",
        "data = np.concatenate([normal_data, covid_data], axis=0)\n",
        "labels = np.concatenate([normal_labels, covid_labels], axis=0)\n",
        "\n",
        "# Mostrar la forma de los datos y las etiquetas\n",
        "print(\"Forma de los datos:\", data.shape)\n",
        "print(\"Forma de las etiquetas:\", labels.shape)"
      ],
      "metadata": {
        "colab": {
          "base_uri": "https://localhost:8080/"
        },
        "id": "dPUFJVxShoMB",
        "outputId": "a127a61b-d3c3-4069-89e1-af6815a6da9a"
      },
      "execution_count": 13,
      "outputs": [
        {
          "output_type": "stream",
          "name": "stdout",
          "text": [
            "Forma de los datos: (1572, 224, 224, 3)\n",
            "Forma de las etiquetas: (1572,)\n"
          ]
        }
      ]
    },
    {
      "cell_type": "code",
      "source": [
        "# Limpieza de memoria\n",
        "normal_data = []\n",
        "covid_data = []\n",
        "normal_labels = []\n",
        "covid_labels = []\n",
        "gc.collect()"
      ],
      "metadata": {
        "colab": {
          "base_uri": "https://localhost:8080/"
        },
        "id": "T7Pw7ilkXm_s",
        "outputId": "0246a9d9-5210-4419-f95a-3e77ab12614b"
      },
      "execution_count": 14,
      "outputs": [
        {
          "output_type": "execute_result",
          "data": {
            "text/plain": [
              "0"
            ]
          },
          "metadata": {},
          "execution_count": 14
        }
      ]
    },
    {
      "cell_type": "code",
      "source": [
        "# Codificar etiquetas en valores enteros\n",
        "label_encoder = LabelEncoder()\n",
        "labels_encoded = label_encoder.fit_transform(labels)\n",
        "labels_one_hot = to_categorical(labels_encoded)\n",
        "\n",
        "class_names = label_encoder.classes_.tolist()\n",
        "class_names"
      ],
      "metadata": {
        "colab": {
          "base_uri": "https://localhost:8080/"
        },
        "id": "Ebb1awpw3ptw",
        "outputId": "e4fe63be-08e4-4cae-991e-2889c83cf640"
      },
      "execution_count": 15,
      "outputs": [
        {
          "output_type": "execute_result",
          "data": {
            "text/plain": [
              "['covid', 'normal']"
            ]
          },
          "metadata": {},
          "execution_count": 15
        }
      ]
    },
    {
      "cell_type": "code",
      "source": [
        "# Guardar encoder\n",
        "with open('label_encoder.pkl', 'wb') as f:\n",
        "  pickle.dump(label_encoder, f)"
      ],
      "metadata": {
        "id": "mAHz9SMdlGQ-"
      },
      "execution_count": 16,
      "outputs": []
    },
    {
      "cell_type": "code",
      "source": [
        "# Dividir los datos en conjuntos de entrenamiento y prueba\n",
        "X_train, X_val, Y_train, Y_val = train_test_split(data, labels_one_hot,test_size=VAL_SIZE, stratify=labels_one_hot, random_state=RANDOM_SEED)"
      ],
      "metadata": {
        "id": "am2xZGU11Fae"
      },
      "execution_count": 17,
      "outputs": []
    },
    {
      "cell_type": "markdown",
      "source": [
        "# Diseño Andrés"
      ],
      "metadata": {
        "id": "7EKauyNhmzUT"
      }
    },
    {
      "cell_type": "code",
      "source": [
        "from tensorflow.keras.models import Model\n",
        "from tensorflow.keras.layers import Input, AveragePooling2D, Flatten, Dense, Dropout\n",
        "from tensorflow.keras.applications import VGG16, MobileNetV2\n",
        "\n",
        "input_shape = data[0].shape\n",
        "\n",
        "# Cargar el modelo base MobileNetV2\n",
        "base_model = MobileNetV2(weights=\"imagenet\", include_top=False, input_shape=input_shape)\n",
        "\n",
        "# Obtener la salida del modelo base\n",
        "x = base_model.output\n",
        "\n",
        "# Agregar capas de AveragePooling, Flatten y capas completamente conectadas adicionales\n",
        "x = AveragePooling2D(pool_size=(4, 4))(x)\n",
        "x = Flatten(name=\"flatten\")(x)\n",
        "x = Dense(64, activation=\"relu\")(x)\n",
        "x = Dropout(0.5)(x)\n",
        "outputs = Dense(2, activation=\"softmax\")(x)\n",
        "\n",
        "# Definir el modelo completo con la entrada y la salida\n",
        "model_andres = Model(inputs=base_model.input, outputs=outputs)\n",
        "\n",
        "# Congelar las capas del modelo base\n",
        "for layer in base_model.layers:\n",
        "    layer.trainable = False\n"
      ],
      "metadata": {
        "id": "iBNvfLkgnHSt",
        "colab": {
          "base_uri": "https://localhost:8080/"
        },
        "outputId": "f19c1367-71ff-47c8-83e9-6843399e2b2e"
      },
      "execution_count": 18,
      "outputs": [
        {
          "output_type": "stream",
          "name": "stdout",
          "text": [
            "Downloading data from https://storage.googleapis.com/tensorflow/keras-applications/mobilenet_v2/mobilenet_v2_weights_tf_dim_ordering_tf_kernels_1.0_224_no_top.h5\n",
            "9406464/9406464 [==============================] - 0s 0us/step\n"
          ]
        }
      ]
    },
    {
      "cell_type": "markdown",
      "source": [
        "# Entrenamiento\n",
        "A continuación, se realizará el entrenamiento del modelo"
      ],
      "metadata": {
        "id": "ehEu4fYHn0qc"
      }
    },
    {
      "cell_type": "code",
      "source": [
        "INIT_LR = 1e-3\n",
        "EPOCHS = 35\n",
        "BS = 8"
      ],
      "metadata": {
        "id": "diXf6IClRnNZ"
      },
      "execution_count": 19,
      "outputs": []
    },
    {
      "cell_type": "code",
      "source": [
        "from keras.optimizers import Adam\n",
        "\n",
        "opt = Adam(learning_rate=INIT_LR)\n",
        "model_andres.compile(loss=\"binary_crossentropy\", optimizer=opt, metrics=[\"accuracy\"])\n",
        "print(\"Compiling Starts\")\n",
        "\n",
        "history = model_andres.fit(X_train, Y_train,\n",
        "                    epochs=EPOCHS,\n",
        "                    batch_size=BS,\n",
        "                    validation_data=(X_val, Y_val))"
      ],
      "metadata": {
        "colab": {
          "base_uri": "https://localhost:8080/"
        },
        "id": "X6_xjU0sHfAd",
        "outputId": "d1aeb080-a429-408a-c0c3-e4acc90636c0"
      },
      "execution_count": 20,
      "outputs": [
        {
          "output_type": "stream",
          "name": "stdout",
          "text": [
            "Compiling Starts\n",
            "Epoch 1/35\n",
            "99/99 [==============================] - 13s 57ms/step - loss: 0.2601 - accuracy: 0.9224 - val_loss: 0.0727 - val_accuracy: 0.9771\n",
            "Epoch 2/35\n",
            "99/99 [==============================] - 3s 27ms/step - loss: 0.0572 - accuracy: 0.9860 - val_loss: 0.0482 - val_accuracy: 0.9822\n",
            "Epoch 3/35\n",
            "99/99 [==============================] - 3s 27ms/step - loss: 0.0531 - accuracy: 0.9809 - val_loss: 0.0390 - val_accuracy: 0.9898\n",
            "Epoch 4/35\n",
            "99/99 [==============================] - 3s 26ms/step - loss: 0.0325 - accuracy: 0.9936 - val_loss: 0.0396 - val_accuracy: 0.9936\n",
            "Epoch 5/35\n",
            "99/99 [==============================] - 3s 26ms/step - loss: 0.0302 - accuracy: 0.9885 - val_loss: 0.0510 - val_accuracy: 0.9860\n",
            "Epoch 6/35\n",
            "99/99 [==============================] - 3s 27ms/step - loss: 0.0279 - accuracy: 0.9911 - val_loss: 0.0389 - val_accuracy: 0.9885\n",
            "Epoch 7/35\n",
            "99/99 [==============================] - 3s 27ms/step - loss: 0.0129 - accuracy: 0.9962 - val_loss: 0.0367 - val_accuracy: 0.9924\n",
            "Epoch 8/35\n",
            "99/99 [==============================] - 3s 26ms/step - loss: 0.0179 - accuracy: 0.9949 - val_loss: 0.0373 - val_accuracy: 0.9949\n",
            "Epoch 9/35\n",
            "99/99 [==============================] - 3s 27ms/step - loss: 0.0162 - accuracy: 0.9962 - val_loss: 0.0382 - val_accuracy: 0.9898\n",
            "Epoch 10/35\n",
            "99/99 [==============================] - 3s 26ms/step - loss: 0.0076 - accuracy: 0.9987 - val_loss: 0.0399 - val_accuracy: 0.9911\n",
            "Epoch 11/35\n",
            "99/99 [==============================] - 3s 27ms/step - loss: 0.0046 - accuracy: 0.9987 - val_loss: 0.0421 - val_accuracy: 0.9949\n",
            "Epoch 12/35\n",
            "99/99 [==============================] - 3s 27ms/step - loss: 0.0068 - accuracy: 0.9975 - val_loss: 0.0433 - val_accuracy: 0.9949\n",
            "Epoch 13/35\n",
            "99/99 [==============================] - 3s 27ms/step - loss: 0.0049 - accuracy: 0.9987 - val_loss: 0.0421 - val_accuracy: 0.9924\n",
            "Epoch 14/35\n",
            "99/99 [==============================] - 3s 26ms/step - loss: 0.0042 - accuracy: 0.9987 - val_loss: 0.0427 - val_accuracy: 0.9911\n",
            "Epoch 15/35\n",
            "99/99 [==============================] - 3s 27ms/step - loss: 0.0060 - accuracy: 0.9987 - val_loss: 0.0433 - val_accuracy: 0.9924\n",
            "Epoch 16/35\n",
            "99/99 [==============================] - 3s 27ms/step - loss: 0.0029 - accuracy: 1.0000 - val_loss: 0.0504 - val_accuracy: 0.9949\n",
            "Epoch 17/35\n",
            "99/99 [==============================] - 3s 27ms/step - loss: 0.0043 - accuracy: 0.9987 - val_loss: 0.0457 - val_accuracy: 0.9949\n",
            "Epoch 18/35\n",
            "99/99 [==============================] - 3s 27ms/step - loss: 0.0044 - accuracy: 0.9975 - val_loss: 0.0441 - val_accuracy: 0.9936\n",
            "Epoch 19/35\n",
            "99/99 [==============================] - 3s 27ms/step - loss: 0.0083 - accuracy: 0.9975 - val_loss: 0.0464 - val_accuracy: 0.9949\n",
            "Epoch 20/35\n",
            "99/99 [==============================] - 3s 27ms/step - loss: 0.0029 - accuracy: 1.0000 - val_loss: 0.0488 - val_accuracy: 0.9911\n",
            "Epoch 21/35\n",
            "99/99 [==============================] - 3s 27ms/step - loss: 0.0012 - accuracy: 1.0000 - val_loss: 0.0495 - val_accuracy: 0.9936\n",
            "Epoch 22/35\n",
            "99/99 [==============================] - 3s 27ms/step - loss: 0.0011 - accuracy: 1.0000 - val_loss: 0.0516 - val_accuracy: 0.9936\n",
            "Epoch 23/35\n",
            "99/99 [==============================] - 3s 27ms/step - loss: 4.8412e-04 - accuracy: 1.0000 - val_loss: 0.0522 - val_accuracy: 0.9936\n",
            "Epoch 24/35\n",
            "99/99 [==============================] - 3s 27ms/step - loss: 0.0066 - accuracy: 0.9975 - val_loss: 0.0515 - val_accuracy: 0.9949\n",
            "Epoch 25/35\n",
            "99/99 [==============================] - 3s 27ms/step - loss: 0.0012 - accuracy: 1.0000 - val_loss: 0.0601 - val_accuracy: 0.9885\n",
            "Epoch 26/35\n",
            "99/99 [==============================] - 3s 27ms/step - loss: 3.2226e-04 - accuracy: 1.0000 - val_loss: 0.0606 - val_accuracy: 0.9898\n",
            "Epoch 27/35\n",
            "99/99 [==============================] - 3s 27ms/step - loss: 0.0028 - accuracy: 1.0000 - val_loss: 0.0654 - val_accuracy: 0.9885\n",
            "Epoch 28/35\n",
            "99/99 [==============================] - 3s 27ms/step - loss: 4.4115e-04 - accuracy: 1.0000 - val_loss: 0.0597 - val_accuracy: 0.9911\n",
            "Epoch 29/35\n",
            "99/99 [==============================] - 3s 27ms/step - loss: 7.6514e-04 - accuracy: 1.0000 - val_loss: 0.0617 - val_accuracy: 0.9911\n",
            "Epoch 30/35\n",
            "99/99 [==============================] - 3s 27ms/step - loss: 8.1537e-04 - accuracy: 1.0000 - val_loss: 0.0618 - val_accuracy: 0.9949\n",
            "Epoch 31/35\n",
            "99/99 [==============================] - 3s 27ms/step - loss: 0.0026 - accuracy: 1.0000 - val_loss: 0.0556 - val_accuracy: 0.9949\n",
            "Epoch 32/35\n",
            "99/99 [==============================] - 3s 27ms/step - loss: 5.3006e-04 - accuracy: 1.0000 - val_loss: 0.0596 - val_accuracy: 0.9962\n",
            "Epoch 33/35\n",
            "99/99 [==============================] - 3s 27ms/step - loss: 4.9839e-04 - accuracy: 1.0000 - val_loss: 0.0591 - val_accuracy: 0.9898\n",
            "Epoch 34/35\n",
            "99/99 [==============================] - 3s 27ms/step - loss: 0.0010 - accuracy: 1.0000 - val_loss: 0.0616 - val_accuracy: 0.9898\n",
            "Epoch 35/35\n",
            "99/99 [==============================] - 3s 27ms/step - loss: 4.5220e-04 - accuracy: 1.0000 - val_loss: 0.0594 - val_accuracy: 0.9936\n"
          ]
        }
      ]
    },
    {
      "cell_type": "code",
      "source": [
        "gc.collect()"
      ],
      "metadata": {
        "colab": {
          "base_uri": "https://localhost:8080/"
        },
        "id": "z7H4CJaHT88V",
        "outputId": "ab437a56-24d9-4cdc-9f43-3ced2c4ab01f"
      },
      "execution_count": 21,
      "outputs": [
        {
          "output_type": "execute_result",
          "data": {
            "text/plain": [
              "2015"
            ]
          },
          "metadata": {},
          "execution_count": 21
        }
      ]
    },
    {
      "cell_type": "code",
      "source": [
        "# Guardar el modelo entrenado\n",
        "model_andres.save(\"modelo_andres.h5\")"
      ],
      "metadata": {
        "colab": {
          "base_uri": "https://localhost:8080/"
        },
        "id": "u4hk20mJoY4b",
        "outputId": "a58a612e-7e5e-446b-e970-576d76b48110"
      },
      "execution_count": 22,
      "outputs": [
        {
          "output_type": "stream",
          "name": "stderr",
          "text": [
            "/usr/local/lib/python3.10/dist-packages/keras/src/engine/training.py:3103: UserWarning: You are saving your model as an HDF5 file via `model.save()`. This file format is considered legacy. We recommend using instead the native Keras format, e.g. `model.save('my_model.keras')`.\n",
            "  saving_api.save_model(\n"
          ]
        }
      ]
    },
    {
      "cell_type": "markdown",
      "source": [
        "# Evaluación\n",
        "Se carga el mejor modelo por val_loss"
      ],
      "metadata": {
        "id": "zlD2x_NxsDYb"
      }
    },
    {
      "cell_type": "code",
      "source": [
        "# Cargar el modelo entrenado desde el archivo guardado\n",
        "best_model_andres = load_model(\"modelo_andres.h5\")\n",
        "best_epoch = np.argmax(history.history['val_accuracy'])"
      ],
      "metadata": {
        "id": "wnnmkDjx6y4f"
      },
      "execution_count": 23,
      "outputs": []
    },
    {
      "cell_type": "markdown",
      "source": [
        "Se grafican las curvas de la historia del entrenamiento"
      ],
      "metadata": {
        "id": "VHnZUXaasdlv"
      }
    },
    {
      "cell_type": "code",
      "source": [
        "epochs_range = range(EPOCHS)\n",
        "train_acc = history.history['accuracy']\n",
        "train_loss = history.history['loss']\n",
        "val_acc = history.history['val_accuracy']\n",
        "val_loss = history.history['val_loss']\n",
        "\n",
        "plt.figure(figsize=(20, 8))\n",
        "plt.subplot(1, 2, 1)\n",
        "plt.plot(epochs_range, train_acc, '-o', label='MobileNet2 + Dense Train Accuracy')\n",
        "plt.plot(epochs_range, val_acc, '-o', label='MobileNet2 + Dense Test Accuracy')\n",
        "plt.axvline(x=best_epoch, color='r', linestyle='--', label='Best Accuracy Epoch')\n",
        "plt.axhline(y=val_acc[best_epoch], color='r', linestyle=':', label='Best Accuracy Epoch')\n",
        "plt.xlabel('Epochs')\n",
        "plt.ylabel('Accuracy')\n",
        "plt.legend(loc='lower right')\n",
        "plt.title('Validation Accuracy')\n",
        "\n",
        "plt.subplot(1, 2, 2)\n",
        "plt.plot(epochs_range, train_loss, '-o', label='MobileNet2 + Dense Train Loss')\n",
        "plt.plot(epochs_range, val_loss, '-o', label='MobileNet2 + Dense Test Loss')\n",
        "plt.axvline(x=best_epoch, color='r', linestyle=':', label='Best Accuracy Epoch')\n",
        "plt.axhline(y=val_loss[best_epoch], color='r', linestyle='--', label='Best Accuracy Epoch')\n",
        "plt.xlabel('Epochs')\n",
        "plt.ylabel('Loss')\n",
        "plt.legend(loc='upper right')\n",
        "plt.title('Validation Loss')\n",
        "plt.show()"
      ],
      "metadata": {
        "colab": {
          "base_uri": "https://localhost:8080/",
          "height": 690
        },
        "id": "VEA5gQhYOYSq",
        "outputId": "3f647d3d-27d6-4fad-beec-8b0d9305e9f8"
      },
      "execution_count": 24,
      "outputs": [
        {
          "output_type": "display_data",
          "data": {
            "text/plain": [
              "<Figure size 2000x800 with 2 Axes>"
            ],
            "image/png": "[encoded data removed]"
          },
          "metadata": {}
        }
      ]
    },
    {
      "cell_type": "markdown",
      "source": [
        "Se muestra el reporte de clasificación"
      ],
      "metadata": {
        "id": "pvd1RrRKszYE"
      }
    },
    {
      "cell_type": "code",
      "source": [
        "Y_pred = best_model_andres.predict(X_val)"
      ],
      "metadata": {
        "colab": {
          "base_uri": "https://localhost:8080/"
        },
        "id": "y1woPepCsrj4",
        "outputId": "917a8ae9-6b09-4eb9-eae2-c2c5d461278a"
      },
      "execution_count": 25,
      "outputs": [
        {
          "output_type": "stream",
          "name": "stdout",
          "text": [
            "25/25 [==============================] - 4s 69ms/step\n"
          ]
        }
      ]
    },
    {
      "cell_type": "code",
      "source": [
        "cr = classification_report(Y_val.argmax(axis=1), Y_pred.argmax(axis=1),target_names=class_names,output_dict=True)\n",
        "mostrar_df_estilizado(pd.DataFrame(cr))"
      ],
      "metadata": {
        "colab": {
          "base_uri": "https://localhost:8080/",
          "height": 175
        },
        "id": "wB9YRE4lx4vf",
        "outputId": "07825ee4-e885-418f-f40a-280c8bab876a"
      },
      "execution_count": 26,
      "outputs": [
        {
          "output_type": "execute_result",
          "data": {
            "text/plain": [
              "<pandas.io.formats.style.Styler at 0x7a83ac77b4c0>"
            ],
            "text/html": [
              "<style type=\"text/css\">\n",
              "#T_11c9f th {\n",
              "  text-align: center;\n",
              "  background-color: #f4f4f4;\n",
              "  color: black;\n",
              "}\n",
              "#T_11c9f_row0_col0, #T_11c9f_row0_col1, #T_11c9f_row0_col2, #T_11c9f_row0_col3, #T_11c9f_row0_col4, #T_11c9f_row1_col0, #T_11c9f_row1_col1, #T_11c9f_row1_col2, #T_11c9f_row1_col3, #T_11c9f_row1_col4, #T_11c9f_row2_col0, #T_11c9f_row2_col1, #T_11c9f_row2_col2, #T_11c9f_row2_col3, #T_11c9f_row2_col4, #T_11c9f_row3_col0, #T_11c9f_row3_col1, #T_11c9f_row3_col2, #T_11c9f_row3_col3, #T_11c9f_row3_col4 {\n",
              "  text-align: center;\n",
              "  font-size: 10pt;\n",
              "  background-color: white;\n",
              "  color: black;\n",
              "}\n",
              "</style>\n",
              "<table id=\"T_11c9f\" class=\"dataframe\">\n",
              "  <thead>\n",
              "    <tr>\n",
              "      <th class=\"blank level0\" >&nbsp;</th>\n",
              "      <th id=\"T_11c9f_level0_col0\" class=\"col_heading level0 col0\" >covid</th>\n",
              "      <th id=\"T_11c9f_level0_col1\" class=\"col_heading level0 col1\" >normal</th>\n",
              "      <th id=\"T_11c9f_level0_col2\" class=\"col_heading level0 col2\" >accuracy</th>\n",
              "      <th id=\"T_11c9f_level0_col3\" class=\"col_heading level0 col3\" >macro avg</th>\n",
              "      <th id=\"T_11c9f_level0_col4\" class=\"col_heading level0 col4\" >weighted avg</th>\n",
              "    </tr>\n",
              "  </thead>\n",
              "  <tbody>\n",
              "    <tr>\n",
              "      <th id=\"T_11c9f_level0_row0\" class=\"row_heading level0 row0\" >precision</th>\n",
              "      <td id=\"T_11c9f_row0_col0\" class=\"data row0 col0\" >0.9853</td>\n",
              "      <td id=\"T_11c9f_row0_col1\" class=\"data row0 col1\" >0.9954</td>\n",
              "      <td id=\"T_11c9f_row0_col2\" class=\"data row0 col2\" >0.9936</td>\n",
              "      <td id=\"T_11c9f_row0_col3\" class=\"data row0 col3\" >0.9903</td>\n",
              "      <td id=\"T_11c9f_row0_col4\" class=\"data row0 col4\" >0.9936</td>\n",
              "    </tr>\n",
              "    <tr>\n",
              "      <th id=\"T_11c9f_level0_row1\" class=\"row_heading level0 row1\" >recall</th>\n",
              "      <td id=\"T_11c9f_row1_col0\" class=\"data row1 col0\" >0.9781</td>\n",
              "      <td id=\"T_11c9f_row1_col1\" class=\"data row1 col1\" >0.9969</td>\n",
              "      <td id=\"T_11c9f_row1_col2\" class=\"data row1 col2\" >0.9936</td>\n",
              "      <td id=\"T_11c9f_row1_col3\" class=\"data row1 col3\" >0.9875</td>\n",
              "      <td id=\"T_11c9f_row1_col4\" class=\"data row1 col4\" >0.9936</td>\n",
              "    </tr>\n",
              "    <tr>\n",
              "      <th id=\"T_11c9f_level0_row2\" class=\"row_heading level0 row2\" >f1-score</th>\n",
              "      <td id=\"T_11c9f_row2_col0\" class=\"data row2 col0\" >0.9817</td>\n",
              "      <td id=\"T_11c9f_row2_col1\" class=\"data row2 col1\" >0.9962</td>\n",
              "      <td id=\"T_11c9f_row2_col2\" class=\"data row2 col2\" >0.9936</td>\n",
              "      <td id=\"T_11c9f_row2_col3\" class=\"data row2 col3\" >0.9889</td>\n",
              "      <td id=\"T_11c9f_row2_col4\" class=\"data row2 col4\" >0.9936</td>\n",
              "    </tr>\n",
              "    <tr>\n",
              "      <th id=\"T_11c9f_level0_row3\" class=\"row_heading level0 row3\" >support</th>\n",
              "      <td id=\"T_11c9f_row3_col0\" class=\"data row3 col0\" >137.0000</td>\n",
              "      <td id=\"T_11c9f_row3_col1\" class=\"data row3 col1\" >649.0000</td>\n",
              "      <td id=\"T_11c9f_row3_col2\" class=\"data row3 col2\" >0.9936</td>\n",
              "      <td id=\"T_11c9f_row3_col3\" class=\"data row3 col3\" >786.0000</td>\n",
              "      <td id=\"T_11c9f_row3_col4\" class=\"data row3 col4\" >786.0000</td>\n",
              "    </tr>\n",
              "  </tbody>\n",
              "</table>\n"
            ]
          },
          "metadata": {},
          "execution_count": 26
        }
      ]
    },
    {
      "cell_type": "markdown",
      "source": [
        "Se muestra la matriz de confusión"
      ],
      "metadata": {
        "id": "K1VsKU2HtiQc"
      }
    },
    {
      "cell_type": "code",
      "source": [
        "cm = confusion_matrix(Y_val.argmax(axis=1), Y_pred.argmax(axis=1))\n",
        "total = sum(sum(cm))\n",
        "acc = (cm[0, 0] + cm[1, 1]) / total\n",
        "sensitivity = cm[0, 0] / (cm[0, 0] + cm[0, 1])\n",
        "specificity = cm[1, 1] / (cm[1, 0] + cm[1, 1])\n",
        "\n",
        "print(\"acc: {:.2f}%\".format(acc*100))\n",
        "print(\"sensitivity: {:.2f}%\".format(sensitivity*100))\n",
        "print(\"specificity: {:.2f}%\".format(specificity*100))"
      ],
      "metadata": {
        "colab": {
          "base_uri": "https://localhost:8080/"
        },
        "id": "ob5wrW4UPzkE",
        "outputId": "ef6a680d-104b-45c3-e505-ed4b873bce3b"
      },
      "execution_count": 27,
      "outputs": [
        {
          "output_type": "stream",
          "name": "stdout",
          "text": [
            "acc: 99.36%\n",
            "sensitivity: 97.81%\n",
            "specificity: 99.69%\n"
          ]
        }
      ]
    },
    {
      "cell_type": "code",
      "source": [
        "print_confusion_matrix(cm,class_names)"
      ],
      "metadata": {
        "colab": {
          "base_uri": "https://localhost:8080/",
          "height": 435
        },
        "id": "rRDqgtXkTKil",
        "outputId": "416eb211-7234-4b97-d8d6-22be4093beee"
      },
      "execution_count": 28,
      "outputs": [
        {
          "output_type": "stream",
          "name": "stdout",
          "text": [
            "Figure(500x400)\n"
          ]
        },
        {
          "output_type": "display_data",
          "data": {
            "text/plain": [
              "<Figure size 500x400 with 2 Axes>"
            ],
            "image/png": "[encoded data removed]"
          },
          "metadata": {}
        }
      ]
    },
    {
      "cell_type": "markdown",
      "source": [
        "# Pruebas\n",
        "Se realizará la prueba del modelo en el 30% restante del dataset"
      ],
      "metadata": {
        "id": "TPi7GdvhAmbz"
      }
    },
    {
      "cell_type": "code",
      "source": [
        "# Fija la semilla aleatoria para replicabilidad\n",
        "random.seed(RANDOM_SEED)\n",
        "\n",
        "# Obtén la muestra del 70%\n",
        "sample_size_normal = int(len(full_normal_paths) * SAMPLE_SIZE)\n",
        "normal_paths_sample = random.sample(full_normal_paths, sample_size_normal)\n",
        "\n",
        "sample_size_covid = int(len(full_covid_paths) * SAMPLE_SIZE)\n",
        "covid_paths_sample = random.sample(full_covid_paths, sample_size_covid)\n",
        "\n",
        "# Obtén el 30% restante\n",
        "normal_paths_test = [path for path in full_normal_paths if path not in normal_paths_sample]\n",
        "covid_paths_test = [path for path in full_covid_paths if path not in covid_paths_sample]"
      ],
      "metadata": {
        "id": "kCwzp_pAAoHf"
      },
      "execution_count": 29,
      "outputs": []
    },
    {
      "cell_type": "code",
      "source": [
        "print(\"Normales imágenes:\", len(normal_paths_test))\n",
        "print('Covid imágenes:', len(covid_paths_test))\n",
        "print('Total imágenes:', len(normal_paths_test) + len(covid_paths_test))"
      ],
      "metadata": {
        "colab": {
          "base_uri": "https://localhost:8080/"
        },
        "id": "fjxdVzj67_Mk",
        "outputId": "76197f48-c953-4626-e10f-da4f8bdc401a"
      },
      "execution_count": 30,
      "outputs": [
        {
          "output_type": "stream",
          "name": "stdout",
          "text": [
            "Normales imágenes: 69\n",
            "Covid imágenes: 15\n",
            "Total imágenes: 84\n"
          ]
        }
      ]
    },
    {
      "cell_type": "code",
      "source": [
        "data = []\n",
        "labels = []\n",
        "gc.collect()"
      ],
      "metadata": {
        "colab": {
          "base_uri": "https://localhost:8080/"
        },
        "id": "MQBIJBEj7EiV",
        "outputId": "a0901dca-b0d4-4bd7-85db-1f8ae5d5307b"
      },
      "execution_count": 31,
      "outputs": [
        {
          "output_type": "execute_result",
          "data": {
            "text/plain": [
              "14707"
            ]
          },
          "metadata": {},
          "execution_count": 31
        }
      ]
    },
    {
      "cell_type": "code",
      "source": [
        "normal_data_test, normal_labels_test = process_images(normal_paths_test, label='normal')\n",
        "covid_data_test, covid_labels_test = process_images(covid_paths_test, label='covid')\n",
        "\n",
        "# Combinar los datos y las etiquetas de las dos clases\n",
        "data = np.concatenate([normal_data_test, covid_data_test], axis=0)\n",
        "labels = np.concatenate([normal_labels_test, covid_labels_test], axis=0)\n",
        "\n",
        "# Mostrar la forma de los datos y las etiquetas\n",
        "print(\"Forma de los datos:\", data.shape)\n",
        "print(\"Forma de las etiquetas:\", labels.shape)"
      ],
      "metadata": {
        "colab": {
          "base_uri": "https://localhost:8080/"
        },
        "id": "rWogcxfLytUS",
        "outputId": "11e785e8-0edb-4bcb-d94a-2c4b6edea58c"
      },
      "execution_count": 32,
      "outputs": [
        {
          "output_type": "stream",
          "name": "stdout",
          "text": [
            "Forma de los datos: (84, 224, 224, 3)\n",
            "Forma de las etiquetas: (84,)\n"
          ]
        }
      ]
    },
    {
      "cell_type": "code",
      "source": [
        "# Liberar memoria\n",
        "normal_data_test = []\n",
        "covid_data_test = []\n",
        "normal_labels_test = []\n",
        "covid_labels_test = []\n",
        "gc.collect()"
      ],
      "metadata": {
        "colab": {
          "base_uri": "https://localhost:8080/"
        },
        "id": "7r7l59Xd12ML",
        "outputId": "76be7755-86c0-4b56-d06e-54454d0f669e"
      },
      "execution_count": 33,
      "outputs": [
        {
          "output_type": "execute_result",
          "data": {
            "text/plain": [
              "0"
            ]
          },
          "metadata": {},
          "execution_count": 33
        }
      ]
    },
    {
      "cell_type": "code",
      "source": [
        "# Cargar encoder\n",
        "with open('label_encoder.pkl', 'rb') as f:\n",
        "    label_encoder = pickle.load(f)"
      ],
      "metadata": {
        "id": "GNqRQxna177_"
      },
      "execution_count": 34,
      "outputs": []
    },
    {
      "cell_type": "code",
      "source": [
        "# Codificar etiquetas en valores enteros\n",
        "labels_encoded = label_encoder.transform(labels)\n",
        "Y_test = to_categorical(labels_encoded)\n",
        "\n",
        "class_names = label_encoder.classes_.tolist()\n",
        "class_names"
      ],
      "metadata": {
        "colab": {
          "base_uri": "https://localhost:8080/"
        },
        "id": "9WGPgxpR10eT",
        "outputId": "7f647b96-9c5c-448e-f3d6-ec0eb7d5565c"
      },
      "execution_count": 35,
      "outputs": [
        {
          "output_type": "execute_result",
          "data": {
            "text/plain": [
              "['covid', 'normal']"
            ]
          },
          "metadata": {},
          "execution_count": 35
        }
      ]
    },
    {
      "cell_type": "code",
      "source": [
        "# Cargar el modelo entrenado desde el archivo guardado\n",
        "best_model_andres = load_model(\"modelo_andres.h5\")\n",
        "Y_pred = best_model_andres.predict(data)"
      ],
      "metadata": {
        "colab": {
          "base_uri": "https://localhost:8080/"
        },
        "id": "UuWWZYFA2UOS",
        "outputId": "86a62fbf-11ff-4b98-8791-0ec6ba650438"
      },
      "execution_count": 36,
      "outputs": [
        {
          "output_type": "stream",
          "name": "stdout",
          "text": [
            "3/3 [==============================] - 2s 487ms/step\n"
          ]
        }
      ]
    },
    {
      "cell_type": "code",
      "source": [
        "cr = classification_report(Y_test.argmax(axis=1), Y_pred.argmax(axis=1),target_names=class_names,output_dict=True)\n",
        "mostrar_df_estilizado(pd.DataFrame(cr))"
      ],
      "metadata": {
        "colab": {
          "base_uri": "https://localhost:8080/",
          "height": 175
        },
        "id": "KBbJCITQBdF-",
        "outputId": "933ad21f-3c3a-4375-fc4d-2fabe7076225"
      },
      "execution_count": 37,
      "outputs": [
        {
          "output_type": "execute_result",
          "data": {
            "text/plain": [
              "<pandas.io.formats.style.Styler at 0x7a84990c3f10>"
            ],
            "text/html": [
              "<style type=\"text/css\">\n",
              "#T_438f9 th {\n",
              "  text-align: center;\n",
              "  background-color: #f4f4f4;\n",
              "  color: black;\n",
              "}\n",
              "#T_438f9_row0_col0, #T_438f9_row0_col1, #T_438f9_row0_col2, #T_438f9_row0_col3, #T_438f9_row0_col4, #T_438f9_row1_col0, #T_438f9_row1_col1, #T_438f9_row1_col2, #T_438f9_row1_col3, #T_438f9_row1_col4, #T_438f9_row2_col0, #T_438f9_row2_col1, #T_438f9_row2_col2, #T_438f9_row2_col3, #T_438f9_row2_col4, #T_438f9_row3_col0, #T_438f9_row3_col1, #T_438f9_row3_col2, #T_438f9_row3_col3, #T_438f9_row3_col4 {\n",
              "  text-align: center;\n",
              "  font-size: 10pt;\n",
              "  background-color: white;\n",
              "  color: black;\n",
              "}\n",
              "</style>\n",
              "<table id=\"T_438f9\" class=\"dataframe\">\n",
              "  <thead>\n",
              "    <tr>\n",
              "      <th class=\"blank level0\" >&nbsp;</th>\n",
              "      <th id=\"T_438f9_level0_col0\" class=\"col_heading level0 col0\" >covid</th>\n",
              "      <th id=\"T_438f9_level0_col1\" class=\"col_heading level0 col1\" >normal</th>\n",
              "      <th id=\"T_438f9_level0_col2\" class=\"col_heading level0 col2\" >accuracy</th>\n",
              "      <th id=\"T_438f9_level0_col3\" class=\"col_heading level0 col3\" >macro avg</th>\n",
              "      <th id=\"T_438f9_level0_col4\" class=\"col_heading level0 col4\" >weighted avg</th>\n",
              "    </tr>\n",
              "  </thead>\n",
              "  <tbody>\n",
              "    <tr>\n",
              "      <th id=\"T_438f9_level0_row0\" class=\"row_heading level0 row0\" >precision</th>\n",
              "      <td id=\"T_438f9_row0_col0\" class=\"data row0 col0\" >0.9375</td>\n",
              "      <td id=\"T_438f9_row0_col1\" class=\"data row0 col1\" >1.0000</td>\n",
              "      <td id=\"T_438f9_row0_col2\" class=\"data row0 col2\" >0.9881</td>\n",
              "      <td id=\"T_438f9_row0_col3\" class=\"data row0 col3\" >0.9688</td>\n",
              "      <td id=\"T_438f9_row0_col4\" class=\"data row0 col4\" >0.9888</td>\n",
              "    </tr>\n",
              "    <tr>\n",
              "      <th id=\"T_438f9_level0_row1\" class=\"row_heading level0 row1\" >recall</th>\n",
              "      <td id=\"T_438f9_row1_col0\" class=\"data row1 col0\" >1.0000</td>\n",
              "      <td id=\"T_438f9_row1_col1\" class=\"data row1 col1\" >0.9855</td>\n",
              "      <td id=\"T_438f9_row1_col2\" class=\"data row1 col2\" >0.9881</td>\n",
              "      <td id=\"T_438f9_row1_col3\" class=\"data row1 col3\" >0.9928</td>\n",
              "      <td id=\"T_438f9_row1_col4\" class=\"data row1 col4\" >0.9881</td>\n",
              "    </tr>\n",
              "    <tr>\n",
              "      <th id=\"T_438f9_level0_row2\" class=\"row_heading level0 row2\" >f1-score</th>\n",
              "      <td id=\"T_438f9_row2_col0\" class=\"data row2 col0\" >0.9677</td>\n",
              "      <td id=\"T_438f9_row2_col1\" class=\"data row2 col1\" >0.9927</td>\n",
              "      <td id=\"T_438f9_row2_col2\" class=\"data row2 col2\" >0.9881</td>\n",
              "      <td id=\"T_438f9_row2_col3\" class=\"data row2 col3\" >0.9802</td>\n",
              "      <td id=\"T_438f9_row2_col4\" class=\"data row2 col4\" >0.9882</td>\n",
              "    </tr>\n",
              "    <tr>\n",
              "      <th id=\"T_438f9_level0_row3\" class=\"row_heading level0 row3\" >support</th>\n",
              "      <td id=\"T_438f9_row3_col0\" class=\"data row3 col0\" >15.0000</td>\n",
              "      <td id=\"T_438f9_row3_col1\" class=\"data row3 col1\" >69.0000</td>\n",
              "      <td id=\"T_438f9_row3_col2\" class=\"data row3 col2\" >0.9881</td>\n",
              "      <td id=\"T_438f9_row3_col3\" class=\"data row3 col3\" >84.0000</td>\n",
              "      <td id=\"T_438f9_row3_col4\" class=\"data row3 col4\" >84.0000</td>\n",
              "    </tr>\n",
              "  </tbody>\n",
              "</table>\n"
            ]
          },
          "metadata": {},
          "execution_count": 37
        }
      ]
    },
    {
      "cell_type": "code",
      "source": [
        "cm = confusion_matrix(Y_test.argmax(axis=1), Y_pred.argmax(axis=1))\n",
        "total = sum(sum(cm))\n",
        "acc = (cm[0, 0] + cm[1, 1]) / total\n",
        "sensitivity = cm[0, 0] / (cm[0, 0] + cm[0, 1])\n",
        "specificity = cm[1, 1] / (cm[1, 0] + cm[1, 1])\n",
        "\n",
        "print(\"acc: {:.2f}%\".format(acc*100))\n",
        "print(\"sensitivity: {:.2f}%\".format(sensitivity*100))\n",
        "print(\"specificity: {:.2f}%\".format(specificity*100))"
      ],
      "metadata": {
        "colab": {
          "base_uri": "https://localhost:8080/"
        },
        "id": "7K5NxtPy3Ie3",
        "outputId": "97a6c9c6-dc0d-4086-eb0a-3fd630996440"
      },
      "execution_count": 38,
      "outputs": [
        {
          "output_type": "stream",
          "name": "stdout",
          "text": [
            "acc: 98.81%\n",
            "sensitivity: 100.00%\n",
            "specificity: 98.55%\n"
          ]
        }
      ]
    },
    {
      "cell_type": "code",
      "source": [
        "print_confusion_matrix(cm,class_names)"
      ],
      "metadata": {
        "colab": {
          "base_uri": "https://localhost:8080/",
          "height": 435
        },
        "id": "8p87xDfWag_X",
        "outputId": "5dc5276e-6c8b-4750-9fb7-fca3066bd351"
      },
      "execution_count": 39,
      "outputs": [
        {
          "output_type": "stream",
          "name": "stdout",
          "text": [
            "Figure(500x400)\n"
          ]
        },
        {
          "output_type": "display_data",
          "data": {
            "text/plain": [
              "<Figure size 500x400 with 2 Axes>"
            ],
            "image/png": "[encoded data removed]"
          },
          "metadata": {}
        }
      ]
    }
  ]
}