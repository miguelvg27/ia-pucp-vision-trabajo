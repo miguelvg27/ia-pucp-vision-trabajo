{
  "nbformat": 4,
  "nbformat_minor": 0,
  "metadata": {
    "colab": {
      "provenance": [],
      "gpuType": "T4",
      "machine_shape": "hm"
    },
    "kernelspec": {
      "name": "python3",
      "display_name": "Python 3"
    },
    "language_info": {
      "name": "python"
    },
    "accelerator": "GPU"
  },
  "cells": [
    {
      "cell_type": "markdown",
      "source": [
        "# Importación de librerías\n",
        "A continuación, se importan las librerías a utilizar en el notebook"
      ],
      "metadata": {
        "id": "FJMsmITufKLZ"
      }
    },
    {
      "cell_type": "code",
      "source": [
        "# Librerías de TensorFlow y Keras\n",
        "import tensorflow as tf\n",
        "from tensorflow.keras.preprocessing.image import ImageDataGenerator\n",
        "from tensorflow.keras.applications import VGG16, ResNet50\n",
        "from tensorflow.keras.layers import Activation, Dropout, Dense, Flatten, BatchNormalization, Conv2D, MaxPooling2D, Lambda, Input, AveragePooling2D\n",
        "from tensorflow.keras.models import Model, Sequential, load_model\n",
        "from tensorflow.keras.optimizers import Adam\n",
        "from tensorflow.keras.initializers import he_uniform\n",
        "from tensorflow.keras.utils import to_categorical\n",
        "from tensorflow.keras.callbacks import EarlyStopping, ModelCheckpoint\n",
        "\n",
        "# Librerías de SciKit Learn\n",
        "from sklearn.preprocessing import LabelEncoder\n",
        "from sklearn.model_selection import train_test_split\n",
        "from sklearn.metrics import classification_report, confusion_matrix\n",
        "\n",
        "# Procesamiento de imágenes\n",
        "import skimage\n",
        "from skimage.transform import resize\n",
        "import cv2\n",
        "\n",
        "# Utilidades generales\n",
        "import numpy as np\n",
        "import pandas as pd\n",
        "import matplotlib.pyplot as plt\n",
        "import seaborn as sns\n",
        "import random\n",
        "import shutil\n",
        "import os\n",
        "import zipfile\n",
        "import pickle\n",
        "\n",
        "# Google Colab\n",
        "import gdown\n",
        "\n",
        "# Limpieza de memoria\n",
        "import gc"
      ],
      "metadata": {
        "id": "7CXhCpyCAImw"
      },
      "execution_count": 1,
      "outputs": []
    },
    {
      "cell_type": "code",
      "source": [
        "RANDOM_SEED = 42\n",
        "SAMPLE_SIZE = 0.95\n",
        "VAL_SIZE = 0.5"
      ],
      "metadata": {
        "id": "js2D5vOa4rbR"
      },
      "execution_count": 2,
      "outputs": []
    },
    {
      "cell_type": "markdown",
      "source": [
        "# Descarga de dataset\n",
        "Se utilizarán diferentes datasets para el entrenamiento/validación y las pruebas"
      ],
      "metadata": {
        "id": "FAoi7ks2fhSB"
      }
    },
    {
      "cell_type": "markdown",
      "source": [
        "Dataset: https://www.kaggle.com/datasets/tawsifurrahman/covid19-radiography-database"
      ],
      "metadata": {
        "id": "IShULG92apFL"
      }
    },
    {
      "cell_type": "markdown",
      "source": [
        "Cargar archivos de Google Drive"
      ],
      "metadata": {
        "id": "vEyA9MH_f9om"
      }
    },
    {
      "cell_type": "code",
      "source": [
        "gdown.download('https://drive.google.com/uc?id=1VM68wfY1XJXsLAVvZ1dru2840iE_HDRp', quiet=False) # dataset v2\n",
        "gdown.download('https://drive.google.com/uc?id=1A2HJnCGaO-ta7pBAE7l2aJR79tD2zD3h', quiet=False) # dataset v1\n",
        "gdown.download('https://drive.google.com/uc?id=1K3KSWVCoogKVBQGBPuFDV-Dvx6bbueBw', quiet=False) # encoder entrenado\n",
        "gdown.download('https://drive.google.com/uc?id=1LIF6h8GFLsZnsr7eoSe1evfWX7KWTI6L', quiet=False) # modelo entrenado"
      ],
      "metadata": {
        "colab": {
          "base_uri": "https://localhost:8080/",
          "height": 365
        },
        "id": "iuRr6RISAcJE",
        "outputId": "c4206c29-6c8f-470f-ccd6-4f38d070c861"
      },
      "execution_count": 3,
      "outputs": [
        {
          "output_type": "stream",
          "name": "stderr",
          "text": [
            "Downloading...\n",
            "From (original): https://drive.google.com/uc?id=1VM68wfY1XJXsLAVvZ1dru2840iE_HDRp\n",
            "From (redirected): https://drive.google.com/uc?id=1VM68wfY1XJXsLAVvZ1dru2840iE_HDRp&confirm=t&uuid=c32a2f3e-1413-47a4-99f5-8e476953562b\n",
            "To: /content/covid_v2.zip\n",
            "100%|██████████| 512M/512M [00:12<00:00, 40.4MB/s]\n",
            "Downloading...\n",
            "From (original): https://drive.google.com/uc?id=1A2HJnCGaO-ta7pBAE7l2aJR79tD2zD3h\n",
            "From (redirected): https://drive.google.com/uc?id=1A2HJnCGaO-ta7pBAE7l2aJR79tD2zD3h&confirm=t&uuid=9d50f76a-60ad-4b22-9a55-785e9b2718bd\n",
            "To: /content/covid_v1.zip\n",
            "100%|██████████| 758M/758M [00:17<00:00, 44.0MB/s]\n",
            "Downloading...\n",
            "From: https://drive.google.com/uc?id=1K3KSWVCoogKVBQGBPuFDV-Dvx6bbueBw\n",
            "To: /content/label_encoder.pkl\n",
            "100%|██████████| 283/283 [00:00<00:00, 372kB/s]\n",
            "Downloading...\n",
            "From (original): https://drive.google.com/uc?id=1LIF6h8GFLsZnsr7eoSe1evfWX7KWTI6L\n",
            "From (redirected): https://drive.google.com/uc?id=1LIF6h8GFLsZnsr7eoSe1evfWX7KWTI6L&confirm=t&uuid=2af5aeac-52c0-406e-8a80-7ba2bfe082e8\n",
            "To: /content/best_model_mvg.keras\n",
            "100%|██████████| 337M/337M [00:04<00:00, 78.3MB/s]\n"
          ]
        },
        {
          "output_type": "execute_result",
          "data": {
            "text/plain": [
              "'best_model_mvg.keras'"
            ],
            "application/vnd.google.colaboratory.intrinsic+json": {
              "type": "string"
            }
          },
          "metadata": {},
          "execution_count": 3
        }
      ]
    },
    {
      "cell_type": "code",
      "source": [
        "fileTrainVal = 'covid_v1.zip'\n",
        "folderTrainVal = './trainval'"
      ],
      "metadata": {
        "id": "1h5tQY96fIGr"
      },
      "execution_count": 4,
      "outputs": []
    },
    {
      "cell_type": "code",
      "source": [
        "with zipfile.ZipFile(fileTrainVal, 'r') as zip_ref:\n",
        "  zip_ref.extractall(folderTrainVal)"
      ],
      "metadata": {
        "id": "crVvCk7cTdBj"
      },
      "execution_count": 5,
      "outputs": []
    },
    {
      "cell_type": "markdown",
      "source": [
        "El 95% del dataset se utilizará para entrenamiento y validación. El 5% restante para pruebas"
      ],
      "metadata": {
        "id": "6WrFxJ2wgeE8"
      }
    },
    {
      "cell_type": "code",
      "source": [
        "# Obtener la lista de rutas de las imágenes en las carpetas \"normal\" y \"covid\"\n",
        "normal_folder = os.path.join(folderTrainVal, 'dataset/normal')\n",
        "covid_folder = os.path.join(folderTrainVal, 'dataset/covid')\n",
        "\n",
        "full_normal_paths = [os.path.join(normal_folder, filename) for filename in os.listdir(normal_folder)]\n",
        "full_covid_paths = [os.path.join(covid_folder, filename) for filename in os.listdir(covid_folder)]"
      ],
      "metadata": {
        "id": "PXC4kVyuz-E6"
      },
      "execution_count": 6,
      "outputs": []
    },
    {
      "cell_type": "code",
      "source": [
        "print(\"Normales imágenes:\", len(full_normal_paths))\n",
        "print('Covid imágenes:', len(full_covid_paths))\n",
        "print('Total imágenes:', len(full_normal_paths) + len(full_covid_paths))"
      ],
      "metadata": {
        "colab": {
          "base_uri": "https://localhost:8080/"
        },
        "id": "8QAP_d_M8aax",
        "outputId": "7b9eeb2b-ccd1-468b-f460-6ab6d5c42fe5"
      },
      "execution_count": 7,
      "outputs": [
        {
          "output_type": "stream",
          "name": "stdout",
          "text": [
            "Normales imágenes: 1366\n",
            "Covid imágenes: 290\n",
            "Total imágenes: 1656\n"
          ]
        }
      ]
    },
    {
      "cell_type": "code",
      "source": [
        "random.seed(RANDOM_SEED)\n",
        "\n",
        "sample_size = int(len(full_normal_paths) * SAMPLE_SIZE)\n",
        "normal_paths = random.sample(full_normal_paths, sample_size)\n",
        "\n",
        "sample_size = int(len(full_covid_paths) * SAMPLE_SIZE)\n",
        "covid_paths = random.sample(full_covid_paths, sample_size)"
      ],
      "metadata": {
        "id": "gsBJRGaHhY2c"
      },
      "execution_count": 8,
      "outputs": []
    },
    {
      "cell_type": "code",
      "source": [
        "print(\"Normales imágenes:\", len(normal_paths))\n",
        "print('Covid imágenes:', len(covid_paths))\n",
        "print('Total imágenes:', len(normal_paths) + len(covid_paths))"
      ],
      "metadata": {
        "colab": {
          "base_uri": "https://localhost:8080/"
        },
        "id": "dLqZ6mC0jK3o",
        "outputId": "d0ed8760-6bcc-4e30-9b93-317c3e14c4fd"
      },
      "execution_count": 9,
      "outputs": [
        {
          "output_type": "stream",
          "name": "stdout",
          "text": [
            "Normales imágenes: 1297\n",
            "Covid imágenes: 275\n",
            "Total imágenes: 1572\n"
          ]
        }
      ]
    },
    {
      "cell_type": "markdown",
      "source": [
        "Funciones auxiliares"
      ],
      "metadata": {
        "id": "qVNgIZ00CBTd"
      }
    },
    {
      "cell_type": "code",
      "source": [
        "# Función para procesar las imágenes\n",
        "def process_images(image_paths, label):\n",
        "  data = []\n",
        "  labels = []\n",
        "  for image_path in image_paths:\n",
        "    # Leer la imagen\n",
        "    image = cv2.imread(image_path)\n",
        "    # Convertir la imagen a RGB\n",
        "    image = cv2.cvtColor(image, cv2.COLOR_BGR2RGB)\n",
        "    # Redimensionar la imagen a 224x224 píxeles\n",
        "    image = cv2.resize(image, (224, 224))\n",
        "    # Normalizar los valores de píxeles\n",
        "    image = image / 255.0\n",
        "    # Agregar la imagen y su etiqueta a las listas de datos y etiquetas\n",
        "    data.append(image)\n",
        "    labels.append(label)\n",
        "  return data, labels"
      ],
      "metadata": {
        "id": "dDMOQa7NhO-c"
      },
      "execution_count": 10,
      "outputs": []
    },
    {
      "cell_type": "code",
      "source": [
        "# función auxiliar para graficar el reporte\n",
        "def mostrar_df_estilizado(df):\n",
        "  styled_df = df.style\\\n",
        "    .set_properties(**{'text-align': 'center', 'font-size': '10pt'})\\\n",
        "    .set_properties(subset=pd.IndexSlice[:, df.select_dtypes(include=[object]).columns],\n",
        "      **{'background-color': 'white', 'color': 'black'})\\\n",
        "    .set_properties(**{'background-color': 'white', 'color': 'black'})\\\n",
        "    .set_table_styles([{'selector': 'th', 'props': [('text-align', 'center'),('background-color', '#f4f4f4'),('color', 'black')]}])\\\n",
        "    .format(precision=4)\n",
        "  return styled_df"
      ],
      "metadata": {
        "id": "OiaxayNNWTnk"
      },
      "execution_count": 11,
      "outputs": []
    },
    {
      "cell_type": "code",
      "source": [
        "def print_confusion_matrix(confusion_matrix, class_names, figsize = (5,4), fontsize=10):\n",
        "  df_cm = pd.DataFrame(confusion_matrix, index=class_names, columns=class_names)\n",
        "  fig = plt.figure(figsize=figsize)\n",
        "  try:\n",
        "    heatmap = sns.heatmap(df_cm, annot=True, fmt=\"d\", cmap='crest')\n",
        "  except ValueError:\n",
        "    raise ValueError(\"Confusion matrix values must be integers.\")\n",
        "  heatmap.yaxis.set_ticklabels(heatmap.yaxis.get_ticklabels(), rotation=0, ha='right', fontsize=fontsize)\n",
        "  heatmap.xaxis.set_ticklabels(heatmap.xaxis.get_ticklabels(), rotation=45, ha='right', fontsize=fontsize)\n",
        "  plt.ylabel('True label')\n",
        "  plt.xlabel('Predicted label')\n",
        "  print(fig)"
      ],
      "metadata": {
        "id": "G0Ts8yg7TCio"
      },
      "execution_count": 12,
      "outputs": []
    },
    {
      "cell_type": "markdown",
      "source": [
        "# Carga de datos en memoria\n",
        "Aprox 10GB de RAM, dirigirse al a sección Pruebas si ya se tiene el modelo descargado y no se desea entrenar"
      ],
      "metadata": {
        "id": "OiWit_nb0u_V"
      }
    },
    {
      "cell_type": "code",
      "source": [
        "normal_data, normal_labels = process_images(normal_paths, label='normal')\n",
        "covid_data, covid_labels = process_images(covid_paths, label='covid')\n",
        "\n",
        "# Combinar los datos y las etiquetas de las dos clases\n",
        "data = np.concatenate([normal_data, covid_data], axis=0)\n",
        "labels = np.concatenate([normal_labels, covid_labels], axis=0)\n",
        "\n",
        "# Mostrar la forma de los datos y las etiquetas\n",
        "print(\"Forma de los datos:\", data.shape)\n",
        "print(\"Forma de las etiquetas:\", labels.shape)"
      ],
      "metadata": {
        "colab": {
          "base_uri": "https://localhost:8080/"
        },
        "id": "dPUFJVxShoMB",
        "outputId": "00bd1dd7-d6d4-4f50-9198-d711647d1e6f"
      },
      "execution_count": 13,
      "outputs": [
        {
          "output_type": "stream",
          "name": "stdout",
          "text": [
            "Forma de los datos: (1572, 224, 224, 3)\n",
            "Forma de las etiquetas: (1572,)\n"
          ]
        }
      ]
    },
    {
      "cell_type": "code",
      "source": [
        "# Limpieza de memoria\n",
        "normal_data = []\n",
        "covid_data = []\n",
        "normal_labels = []\n",
        "covid_labels = []\n",
        "gc.collect()"
      ],
      "metadata": {
        "colab": {
          "base_uri": "https://localhost:8080/"
        },
        "id": "T7Pw7ilkXm_s",
        "outputId": "306dc238-ff88-4ea2-8dd1-781fbc21b016"
      },
      "execution_count": 14,
      "outputs": [
        {
          "output_type": "execute_result",
          "data": {
            "text/plain": [
              "0"
            ]
          },
          "metadata": {},
          "execution_count": 14
        }
      ]
    },
    {
      "cell_type": "code",
      "source": [
        "# Codificar etiquetas en valores enteros\n",
        "label_encoder = LabelEncoder()\n",
        "labels_encoded = label_encoder.fit_transform(labels)\n",
        "labels_one_hot = to_categorical(labels_encoded)\n",
        "\n",
        "class_names = label_encoder.classes_.tolist()\n",
        "class_names"
      ],
      "metadata": {
        "colab": {
          "base_uri": "https://localhost:8080/"
        },
        "id": "Ebb1awpw3ptw",
        "outputId": "dc282f46-59d5-4d02-8be6-8a8b36d6d9c1"
      },
      "execution_count": 15,
      "outputs": [
        {
          "output_type": "execute_result",
          "data": {
            "text/plain": [
              "['covid', 'normal']"
            ]
          },
          "metadata": {},
          "execution_count": 15
        }
      ]
    },
    {
      "cell_type": "code",
      "source": [
        "# Guardar encoder\n",
        "with open('label_encoder.pkl', 'wb') as f:\n",
        "  pickle.dump(label_encoder, f)"
      ],
      "metadata": {
        "id": "mAHz9SMdlGQ-"
      },
      "execution_count": 16,
      "outputs": []
    },
    {
      "cell_type": "code",
      "source": [
        "# Dividir los datos en conjuntos de entrenamiento y prueba\n",
        "X_train, X_val, Y_train, Y_val = train_test_split(data, labels_one_hot,test_size=VAL_SIZE, stratify=labels_one_hot, random_state=RANDOM_SEED)"
      ],
      "metadata": {
        "id": "am2xZGU11Fae"
      },
      "execution_count": 17,
      "outputs": []
    },
    {
      "cell_type": "markdown",
      "source": [
        "# Diseño Carlos"
      ],
      "metadata": {
        "id": "7EKauyNhmzUT"
      }
    },
    {
      "cell_type": "code",
      "source": [
        "from keras.preprocessing.image import ImageDataGenerator\n",
        "\n",
        "# Definir el generador de aumentación de datos\n",
        "trainAug = ImageDataGenerator(\n",
        "    rotation_range=15,  # Rotación aleatoria de la imagen en el rango de 0 a 15 grados\n",
        "    width_shift_range=0.1,  # Desplazamiento horizontal aleatorio de la imagen\n",
        "    height_shift_range=0.1,  # Desplazamiento vertical aleatorio de la imagen\n",
        "    shear_range=0.1,  # Cambio de inclinación aleatorio\n",
        "    zoom_range=0.2,  # Zoom aleatorio en la imagen\n",
        "    horizontal_flip=True,  # Volteo horizontal aleatorio de la imagen\n",
        "    fill_mode=\"nearest\"  # Relleno de píxeles fuera de los límites de la imagen original\n",
        ")"
      ],
      "metadata": {
        "id": "L-wZDGR5FQkH"
      },
      "execution_count": 18,
      "outputs": []
    },
    {
      "cell_type": "code",
      "source": [
        "from tensorflow.keras.models import Model\n",
        "from tensorflow.keras.layers import Input, AveragePooling2D, Flatten, Dense, Dropout\n",
        "from tensorflow.keras.applications import VGG16\n",
        "\n",
        "# Cargar el modelo base VGG16\n",
        "base_model = VGG16(weights=\"imagenet\", include_top=False, input_tensor=Input(shape=(224, 224, 3)))\n",
        "\n",
        "# Obtener la salida del modelo base\n",
        "x = base_model.output\n",
        "\n",
        "# Agregar capas de AveragePooling, Flatten y capas completamente conectadas adicionales\n",
        "x = AveragePooling2D(pool_size=(4, 4))(x)\n",
        "x = Flatten(name=\"flatten\")(x)\n",
        "x = Dense(64, activation=\"relu\")(x)\n",
        "x = Dropout(0.5)(x)\n",
        "outputs = Dense(2, activation=\"softmax\")(x)\n",
        "\n",
        "# Definir el modelo completo con la entrada y la salida\n",
        "model_carlos = Model(inputs=base_model.input, outputs=outputs)\n",
        "\n",
        "# Congelar las capas del modelo base\n",
        "for layer in base_model.layers:\n",
        "    layer.trainable = False\n"
      ],
      "metadata": {
        "colab": {
          "base_uri": "https://localhost:8080/"
        },
        "id": "iBNvfLkgnHSt",
        "outputId": "a1cf639f-a3e3-43ea-c3c2-68b3337f31d1"
      },
      "execution_count": 19,
      "outputs": [
        {
          "output_type": "stream",
          "name": "stdout",
          "text": [
            "Downloading data from https://storage.googleapis.com/tensorflow/keras-applications/vgg16/vgg16_weights_tf_dim_ordering_tf_kernels_notop.h5\n",
            "58889256/58889256 [==============================] - 3s 0us/step\n"
          ]
        }
      ]
    },
    {
      "cell_type": "markdown",
      "source": [
        "# Entrenamiento\n",
        "A continuación, se realizará el entrenamiento del modelo"
      ],
      "metadata": {
        "id": "ehEu4fYHn0qc"
      }
    },
    {
      "cell_type": "code",
      "source": [
        "INIT_LR = 1e-3\n",
        "EPOCHS = 30\n",
        "BS = 8"
      ],
      "metadata": {
        "id": "diXf6IClRnNZ"
      },
      "execution_count": 20,
      "outputs": []
    },
    {
      "cell_type": "code",
      "source": [
        "from keras.optimizers import Adam\n",
        "\n",
        "opt = Adam(learning_rate=INIT_LR)\n",
        "model_carlos.compile(loss=\"binary_crossentropy\", optimizer=opt, metrics=[\"accuracy\"])\n",
        "print(\"Compiling Starts\")\n",
        "#R = model.fit_generator(\n",
        "#    trainAug.flow(X_train, Y_train, batch_size=BS),\n",
        "#    steps_per_epoch=len(X_train) // BS,\n",
        "#    validation_data=(X_test, Y_test),\n",
        "#    validation_steps=len(X_test) // BS,\n",
        "#    epochs=EPOCHS)\n",
        "\n",
        "\n",
        "history = model_carlos.fit(trainAug.flow(X_train, Y_train, batch_size=BS),\n",
        "                    epochs=EPOCHS,\n",
        "                    batch_size=BS,\n",
        "                    validation_data=(X_val, Y_val))"
      ],
      "metadata": {
        "colab": {
          "base_uri": "https://localhost:8080/"
        },
        "id": "X6_xjU0sHfAd",
        "outputId": "703b5367-da1f-4d57-a713-5bdf5edfda69"
      },
      "execution_count": 21,
      "outputs": [
        {
          "output_type": "stream",
          "name": "stdout",
          "text": [
            "Compiling Starts\n",
            "Epoch 1/30\n",
            "99/99 [==============================] - 21s 150ms/step - loss: 0.4709 - accuracy: 0.8066 - val_loss: 0.3527 - val_accuracy: 0.8257\n",
            "Epoch 2/30\n",
            "99/99 [==============================] - 13s 127ms/step - loss: 0.3252 - accuracy: 0.8524 - val_loss: 0.2597 - val_accuracy: 0.8702\n",
            "Epoch 3/30\n",
            "99/99 [==============================] - 13s 128ms/step - loss: 0.2630 - accuracy: 0.9046 - val_loss: 0.1866 - val_accuracy: 0.9351\n",
            "Epoch 4/30\n",
            "99/99 [==============================] - 13s 127ms/step - loss: 0.2030 - accuracy: 0.9326 - val_loss: 0.1490 - val_accuracy: 0.9529\n",
            "Epoch 5/30\n",
            "99/99 [==============================] - 13s 127ms/step - loss: 0.1824 - accuracy: 0.9504 - val_loss: 0.1360 - val_accuracy: 0.9542\n",
            "Epoch 6/30\n",
            "99/99 [==============================] - 12s 126ms/step - loss: 0.1702 - accuracy: 0.9504 - val_loss: 0.1168 - val_accuracy: 0.9682\n",
            "Epoch 7/30\n",
            "99/99 [==============================] - 13s 131ms/step - loss: 0.1225 - accuracy: 0.9606 - val_loss: 0.1002 - val_accuracy: 0.9733\n",
            "Epoch 8/30\n",
            "99/99 [==============================] - 12s 125ms/step - loss: 0.1179 - accuracy: 0.9631 - val_loss: 0.0898 - val_accuracy: 0.9682\n",
            "Epoch 9/30\n",
            "99/99 [==============================] - 12s 125ms/step - loss: 0.1132 - accuracy: 0.9644 - val_loss: 0.1034 - val_accuracy: 0.9733\n",
            "Epoch 10/30\n",
            "99/99 [==============================] - 13s 129ms/step - loss: 0.0986 - accuracy: 0.9656 - val_loss: 0.1085 - val_accuracy: 0.9682\n",
            "Epoch 11/30\n",
            "99/99 [==============================] - 13s 128ms/step - loss: 0.0958 - accuracy: 0.9682 - val_loss: 0.0810 - val_accuracy: 0.9720\n",
            "Epoch 12/30\n",
            "99/99 [==============================] - 13s 129ms/step - loss: 0.1060 - accuracy: 0.9593 - val_loss: 0.0930 - val_accuracy: 0.9758\n",
            "Epoch 13/30\n",
            "99/99 [==============================] - 12s 125ms/step - loss: 0.0968 - accuracy: 0.9669 - val_loss: 0.0807 - val_accuracy: 0.9746\n",
            "Epoch 14/30\n",
            "99/99 [==============================] - 12s 126ms/step - loss: 0.0869 - accuracy: 0.9733 - val_loss: 0.0920 - val_accuracy: 0.9796\n",
            "Epoch 15/30\n",
            "99/99 [==============================] - 13s 128ms/step - loss: 0.0803 - accuracy: 0.9707 - val_loss: 0.0890 - val_accuracy: 0.9784\n",
            "Epoch 16/30\n",
            "99/99 [==============================] - 13s 129ms/step - loss: 0.1060 - accuracy: 0.9593 - val_loss: 0.0836 - val_accuracy: 0.9771\n",
            "Epoch 17/30\n",
            "99/99 [==============================] - 13s 127ms/step - loss: 0.0832 - accuracy: 0.9669 - val_loss: 0.0780 - val_accuracy: 0.9771\n",
            "Epoch 18/30\n",
            "99/99 [==============================] - 13s 132ms/step - loss: 0.0930 - accuracy: 0.9644 - val_loss: 0.0826 - val_accuracy: 0.9784\n",
            "Epoch 19/30\n",
            "99/99 [==============================] - 13s 127ms/step - loss: 0.0700 - accuracy: 0.9784 - val_loss: 0.0810 - val_accuracy: 0.9822\n",
            "Epoch 20/30\n",
            "99/99 [==============================] - 12s 126ms/step - loss: 0.0672 - accuracy: 0.9784 - val_loss: 0.0750 - val_accuracy: 0.9784\n",
            "Epoch 21/30\n",
            "99/99 [==============================] - 13s 127ms/step - loss: 0.0834 - accuracy: 0.9746 - val_loss: 0.0814 - val_accuracy: 0.9809\n",
            "Epoch 22/30\n",
            "99/99 [==============================] - 12s 124ms/step - loss: 0.0662 - accuracy: 0.9796 - val_loss: 0.0682 - val_accuracy: 0.9809\n",
            "Epoch 23/30\n",
            "99/99 [==============================] - 12s 126ms/step - loss: 0.0767 - accuracy: 0.9720 - val_loss: 0.0748 - val_accuracy: 0.9822\n",
            "Epoch 24/30\n",
            "99/99 [==============================] - 13s 128ms/step - loss: 0.0918 - accuracy: 0.9707 - val_loss: 0.0649 - val_accuracy: 0.9771\n",
            "Epoch 25/30\n",
            "99/99 [==============================] - 12s 126ms/step - loss: 0.0661 - accuracy: 0.9796 - val_loss: 0.0706 - val_accuracy: 0.9809\n",
            "Epoch 26/30\n",
            "99/99 [==============================] - 12s 125ms/step - loss: 0.0717 - accuracy: 0.9758 - val_loss: 0.0721 - val_accuracy: 0.9835\n",
            "Epoch 27/30\n",
            "99/99 [==============================] - 13s 126ms/step - loss: 0.0762 - accuracy: 0.9758 - val_loss: 0.0659 - val_accuracy: 0.9835\n",
            "Epoch 28/30\n",
            "99/99 [==============================] - 13s 128ms/step - loss: 0.0609 - accuracy: 0.9771 - val_loss: 0.0827 - val_accuracy: 0.9784\n",
            "Epoch 29/30\n",
            "99/99 [==============================] - 13s 127ms/step - loss: 0.0557 - accuracy: 0.9771 - val_loss: 0.0863 - val_accuracy: 0.9796\n",
            "Epoch 30/30\n",
            "99/99 [==============================] - 12s 126ms/step - loss: 0.0721 - accuracy: 0.9720 - val_loss: 0.0735 - val_accuracy: 0.9835\n"
          ]
        }
      ]
    },
    {
      "cell_type": "code",
      "source": [
        "gc.collect()"
      ],
      "metadata": {
        "colab": {
          "base_uri": "https://localhost:8080/"
        },
        "id": "z7H4CJaHT88V",
        "outputId": "60de8517-864a-4192-cc74-700177dae099"
      },
      "execution_count": 22,
      "outputs": [
        {
          "output_type": "execute_result",
          "data": {
            "text/plain": [
              "678"
            ]
          },
          "metadata": {},
          "execution_count": 22
        }
      ]
    },
    {
      "cell_type": "code",
      "source": [
        "# Guardar el modelo entrenado\n",
        "model_carlos.save(\"modelo_carlos.h5\")"
      ],
      "metadata": {
        "colab": {
          "base_uri": "https://localhost:8080/"
        },
        "id": "u4hk20mJoY4b",
        "outputId": "dfaa6ddd-73c5-45fb-d80a-ef1f0885110a"
      },
      "execution_count": 23,
      "outputs": [
        {
          "output_type": "stream",
          "name": "stderr",
          "text": [
            "/usr/local/lib/python3.10/dist-packages/keras/src/engine/training.py:3103: UserWarning: You are saving your model as an HDF5 file via `model.save()`. This file format is considered legacy. We recommend using instead the native Keras format, e.g. `model.save('my_model.keras')`.\n",
            "  saving_api.save_model(\n"
          ]
        }
      ]
    },
    {
      "cell_type": "markdown",
      "source": [
        "# Evaluación\n",
        "Se carga el mejor modelo por val_loss"
      ],
      "metadata": {
        "id": "zlD2x_NxsDYb"
      }
    },
    {
      "cell_type": "code",
      "source": [
        "# Cargar el modelo entrenado desde el archivo guardado\n",
        "best_model_carlos = load_model(\"modelo_carlos.h5\")\n",
        "best_epoch = np.argmax(history.history['val_accuracy'])"
      ],
      "metadata": {
        "id": "wnnmkDjx6y4f"
      },
      "execution_count": 24,
      "outputs": []
    },
    {
      "cell_type": "markdown",
      "source": [
        "Se grafican las curvas de la historia del entrenamiento"
      ],
      "metadata": {
        "id": "VHnZUXaasdlv"
      }
    },
    {
      "cell_type": "code",
      "source": [
        "epochs_range = range(EPOCHS)\n",
        "train_acc = history.history['accuracy']\n",
        "train_loss = history.history['loss']\n",
        "val_acc = history.history['val_accuracy']\n",
        "val_loss = history.history['val_loss']\n",
        "\n",
        "plt.figure(figsize=(20, 8))\n",
        "plt.subplot(1, 2, 1)\n",
        "plt.plot(epochs_range, train_acc, '-o', label='VGG16 + Dense Train Accuracy')\n",
        "plt.plot(epochs_range, val_acc, '-o', label='VGG16 + Dense Test Accuracy')\n",
        "plt.axvline(x=best_epoch, color='r', linestyle='--', label='Best Accuracy Epoch')\n",
        "plt.axhline(y=val_acc[best_epoch], color='r', linestyle=':', label='Best Accuracy Epoch')\n",
        "plt.xlabel('Epochs')\n",
        "plt.ylabel('Accuracy')\n",
        "plt.legend(loc='lower right')\n",
        "plt.title('Validation Accuracy')\n",
        "\n",
        "plt.subplot(1, 2, 2)\n",
        "plt.plot(epochs_range, train_loss, '-o', label='VGG16 + Dense Train Loss')\n",
        "plt.plot(epochs_range, val_loss, '-o', label='VGG16 + Dense Test Loss')\n",
        "plt.axvline(x=best_epoch, color='r', linestyle=':', label='Best Accuracy Epoch')\n",
        "plt.axhline(y=val_loss[best_epoch], color='r', linestyle='--', label='Best Accuracy Epoch')\n",
        "plt.xlabel('Epochs')\n",
        "plt.ylabel('Loss')\n",
        "plt.legend(loc='upper right')\n",
        "plt.title('Validation Loss')\n",
        "plt.show()"
      ],
      "metadata": {
        "colab": {
          "base_uri": "https://localhost:8080/",
          "height": 558
        },
        "id": "VEA5gQhYOYSq",
        "outputId": "6e6a03ea-758c-4f28-ac1f-348dd5c87cec"
      },
      "execution_count": 28,
      "outputs": [
        {
          "output_type": "display_data",
          "data": {
            "text/plain": [
              "<Figure size 2000x800 with 2 Axes>"
            ],
            "image/png": "[encoded data removed]"
          },
          "metadata": {}
        }
      ]
    },
    {
      "cell_type": "markdown",
      "source": [
        "Se muestra el reporte de clasificación"
      ],
      "metadata": {
        "id": "pvd1RrRKszYE"
      }
    },
    {
      "cell_type": "code",
      "source": [
        "Y_pred = best_model_carlos.predict(X_val)"
      ],
      "metadata": {
        "colab": {
          "base_uri": "https://localhost:8080/"
        },
        "id": "y1woPepCsrj4",
        "outputId": "a41371cb-b87d-46cd-e32b-9456c6e152ed"
      },
      "execution_count": 26,
      "outputs": [
        {
          "output_type": "stream",
          "name": "stdout",
          "text": [
            "25/25 [==============================] - 15s 317ms/step\n"
          ]
        }
      ]
    },
    {
      "cell_type": "code",
      "source": [
        "cr = classification_report(Y_val.argmax(axis=1), Y_pred.argmax(axis=1),target_names=class_names,output_dict=True)\n",
        "mostrar_df_estilizado(pd.DataFrame(cr))"
      ],
      "metadata": {
        "colab": {
          "base_uri": "https://localhost:8080/",
          "height": 175
        },
        "id": "wB9YRE4lx4vf",
        "outputId": "33dccd17-1587-4864-b256-593341c825a9"
      },
      "execution_count": 27,
      "outputs": [
        {
          "output_type": "execute_result",
          "data": {
            "text/plain": [
              "<pandas.io.formats.style.Styler at 0x7f5d84145a80>"
            ],
            "text/html": [
              "<style type=\"text/css\">\n",
              "#T_7b22f th {\n",
              "  text-align: center;\n",
              "  background-color: #f4f4f4;\n",
              "  color: black;\n",
              "}\n",
              "#T_7b22f_row0_col0, #T_7b22f_row0_col1, #T_7b22f_row0_col2, #T_7b22f_row0_col3, #T_7b22f_row0_col4, #T_7b22f_row1_col0, #T_7b22f_row1_col1, #T_7b22f_row1_col2, #T_7b22f_row1_col3, #T_7b22f_row1_col4, #T_7b22f_row2_col0, #T_7b22f_row2_col1, #T_7b22f_row2_col2, #T_7b22f_row2_col3, #T_7b22f_row2_col4, #T_7b22f_row3_col0, #T_7b22f_row3_col1, #T_7b22f_row3_col2, #T_7b22f_row3_col3, #T_7b22f_row3_col4 {\n",
              "  text-align: center;\n",
              "  font-size: 10pt;\n",
              "  background-color: white;\n",
              "  color: black;\n",
              "}\n",
              "</style>\n",
              "<table id=\"T_7b22f\" class=\"dataframe\">\n",
              "  <thead>\n",
              "    <tr>\n",
              "      <th class=\"blank level0\" >&nbsp;</th>\n",
              "      <th id=\"T_7b22f_level0_col0\" class=\"col_heading level0 col0\" >covid</th>\n",
              "      <th id=\"T_7b22f_level0_col1\" class=\"col_heading level0 col1\" >normal</th>\n",
              "      <th id=\"T_7b22f_level0_col2\" class=\"col_heading level0 col2\" >accuracy</th>\n",
              "      <th id=\"T_7b22f_level0_col3\" class=\"col_heading level0 col3\" >macro avg</th>\n",
              "      <th id=\"T_7b22f_level0_col4\" class=\"col_heading level0 col4\" >weighted avg</th>\n",
              "    </tr>\n",
              "  </thead>\n",
              "  <tbody>\n",
              "    <tr>\n",
              "      <th id=\"T_7b22f_level0_row0\" class=\"row_heading level0 row0\" >precision</th>\n",
              "      <td id=\"T_7b22f_row0_col0\" class=\"data row0 col0\" >1.0000</td>\n",
              "      <td id=\"T_7b22f_row0_col1\" class=\"data row0 col1\" >0.9804</td>\n",
              "      <td id=\"T_7b22f_row0_col2\" class=\"data row0 col2\" >0.9835</td>\n",
              "      <td id=\"T_7b22f_row0_col3\" class=\"data row0 col3\" >0.9902</td>\n",
              "      <td id=\"T_7b22f_row0_col4\" class=\"data row0 col4\" >0.9838</td>\n",
              "    </tr>\n",
              "    <tr>\n",
              "      <th id=\"T_7b22f_level0_row1\" class=\"row_heading level0 row1\" >recall</th>\n",
              "      <td id=\"T_7b22f_row1_col0\" class=\"data row1 col0\" >0.9051</td>\n",
              "      <td id=\"T_7b22f_row1_col1\" class=\"data row1 col1\" >1.0000</td>\n",
              "      <td id=\"T_7b22f_row1_col2\" class=\"data row1 col2\" >0.9835</td>\n",
              "      <td id=\"T_7b22f_row1_col3\" class=\"data row1 col3\" >0.9526</td>\n",
              "      <td id=\"T_7b22f_row1_col4\" class=\"data row1 col4\" >0.9835</td>\n",
              "    </tr>\n",
              "    <tr>\n",
              "      <th id=\"T_7b22f_level0_row2\" class=\"row_heading level0 row2\" >f1-score</th>\n",
              "      <td id=\"T_7b22f_row2_col0\" class=\"data row2 col0\" >0.9502</td>\n",
              "      <td id=\"T_7b22f_row2_col1\" class=\"data row2 col1\" >0.9901</td>\n",
              "      <td id=\"T_7b22f_row2_col2\" class=\"data row2 col2\" >0.9835</td>\n",
              "      <td id=\"T_7b22f_row2_col3\" class=\"data row2 col3\" >0.9701</td>\n",
              "      <td id=\"T_7b22f_row2_col4\" class=\"data row2 col4\" >0.9831</td>\n",
              "    </tr>\n",
              "    <tr>\n",
              "      <th id=\"T_7b22f_level0_row3\" class=\"row_heading level0 row3\" >support</th>\n",
              "      <td id=\"T_7b22f_row3_col0\" class=\"data row3 col0\" >137.0000</td>\n",
              "      <td id=\"T_7b22f_row3_col1\" class=\"data row3 col1\" >649.0000</td>\n",
              "      <td id=\"T_7b22f_row3_col2\" class=\"data row3 col2\" >0.9835</td>\n",
              "      <td id=\"T_7b22f_row3_col3\" class=\"data row3 col3\" >786.0000</td>\n",
              "      <td id=\"T_7b22f_row3_col4\" class=\"data row3 col4\" >786.0000</td>\n",
              "    </tr>\n",
              "  </tbody>\n",
              "</table>\n"
            ]
          },
          "metadata": {},
          "execution_count": 27
        }
      ]
    },
    {
      "cell_type": "markdown",
      "source": [
        "Se muestra la matriz de confusión"
      ],
      "metadata": {
        "id": "K1VsKU2HtiQc"
      }
    },
    {
      "cell_type": "code",
      "source": [
        "cm = confusion_matrix(Y_val.argmax(axis=1), Y_pred.argmax(axis=1))\n",
        "total = sum(sum(cm))\n",
        "acc = (cm[0, 0] + cm[1, 1]) / total\n",
        "sensitivity = cm[0, 0] / (cm[0, 0] + cm[0, 1])\n",
        "specificity = cm[1, 1] / (cm[1, 0] + cm[1, 1])\n",
        "\n",
        "print(\"acc: {:.2f}%\".format(acc*100))\n",
        "print(\"sensitivity: {:.2f}%\".format(sensitivity*100))\n",
        "print(\"specificity: {:.2f}%\".format(specificity*100))"
      ],
      "metadata": {
        "colab": {
          "base_uri": "https://localhost:8080/"
        },
        "id": "ob5wrW4UPzkE",
        "outputId": "603d82de-365f-457e-9a88-97342c8d74e8"
      },
      "execution_count": 29,
      "outputs": [
        {
          "output_type": "stream",
          "name": "stdout",
          "text": [
            "acc: 98.35%\n",
            "sensitivity: 90.51%\n",
            "specificity: 100.00%\n"
          ]
        }
      ]
    },
    {
      "cell_type": "code",
      "source": [
        "print_confusion_matrix(cm,class_names)"
      ],
      "metadata": {
        "colab": {
          "base_uri": "https://localhost:8080/",
          "height": 435
        },
        "id": "rRDqgtXkTKil",
        "outputId": "c1fdfeb0-bcea-4968-c465-ba3fed62685b"
      },
      "execution_count": 30,
      "outputs": [
        {
          "output_type": "stream",
          "name": "stdout",
          "text": [
            "Figure(500x400)\n"
          ]
        },
        {
          "output_type": "display_data",
          "data": {
            "text/plain": [
              "<Figure size 500x400 with 2 Axes>"
            ],
            "image/png": "[encoded data removed]"
          },
          "metadata": {}
        }
      ]
    },
    {
      "cell_type": "markdown",
      "source": [
        "# Pruebas\n",
        "Se realizará la prueba del modelo en el 30% restante del dataset"
      ],
      "metadata": {
        "id": "TPi7GdvhAmbz"
      }
    },
    {
      "cell_type": "code",
      "source": [
        "# Fija la semilla aleatoria para replicabilidad\n",
        "random.seed(RANDOM_SEED)\n",
        "\n",
        "# Obtén la muestra del 70%\n",
        "sample_size_normal = int(len(full_normal_paths) * SAMPLE_SIZE)\n",
        "normal_paths_sample = random.sample(full_normal_paths, sample_size_normal)\n",
        "\n",
        "sample_size_covid = int(len(full_covid_paths) * SAMPLE_SIZE)\n",
        "covid_paths_sample = random.sample(full_covid_paths, sample_size_covid)\n",
        "\n",
        "# Obtén el 30% restante\n",
        "normal_paths_test = [path for path in full_normal_paths if path not in normal_paths_sample]\n",
        "covid_paths_test = [path for path in full_covid_paths if path not in covid_paths_sample]"
      ],
      "metadata": {
        "id": "kCwzp_pAAoHf"
      },
      "execution_count": 31,
      "outputs": []
    },
    {
      "cell_type": "code",
      "source": [
        "print(\"Normales imágenes:\", len(normal_paths_test))\n",
        "print('Covid imágenes:', len(covid_paths_test))\n",
        "print('Total imágenes:', len(normal_paths_test) + len(covid_paths_test))"
      ],
      "metadata": {
        "colab": {
          "base_uri": "https://localhost:8080/"
        },
        "id": "fjxdVzj67_Mk",
        "outputId": "cbed5ef7-43e6-4135-8115-fa07a2c00273"
      },
      "execution_count": 32,
      "outputs": [
        {
          "output_type": "stream",
          "name": "stdout",
          "text": [
            "Normales imágenes: 69\n",
            "Covid imágenes: 15\n",
            "Total imágenes: 84\n"
          ]
        }
      ]
    },
    {
      "cell_type": "code",
      "source": [
        "data = []\n",
        "labels = []\n",
        "gc.collect()"
      ],
      "metadata": {
        "colab": {
          "base_uri": "https://localhost:8080/"
        },
        "id": "MQBIJBEj7EiV",
        "outputId": "c492554f-3fbf-4700-8e77-dd4055cd9964"
      },
      "execution_count": 33,
      "outputs": [
        {
          "output_type": "execute_result",
          "data": {
            "text/plain": [
              "22114"
            ]
          },
          "metadata": {},
          "execution_count": 33
        }
      ]
    },
    {
      "cell_type": "code",
      "source": [
        "normal_data_test, normal_labels_test = process_images(normal_paths_test, label='normal')\n",
        "covid_data_test, covid_labels_test = process_images(covid_paths_test, label='covid')\n",
        "\n",
        "# Combinar los datos y las etiquetas de las dos clases\n",
        "data = np.concatenate([normal_data_test, covid_data_test], axis=0)\n",
        "labels = np.concatenate([normal_labels_test, covid_labels_test], axis=0)\n",
        "\n",
        "# Mostrar la forma de los datos y las etiquetas\n",
        "print(\"Forma de los datos:\", data.shape)\n",
        "print(\"Forma de las etiquetas:\", labels.shape)"
      ],
      "metadata": {
        "colab": {
          "base_uri": "https://localhost:8080/"
        },
        "id": "rWogcxfLytUS",
        "outputId": "88f49f4e-f3a2-4b4f-81b1-ca2cd56d9c2a"
      },
      "execution_count": 34,
      "outputs": [
        {
          "output_type": "stream",
          "name": "stdout",
          "text": [
            "Forma de los datos: (84, 224, 224, 3)\n",
            "Forma de las etiquetas: (84,)\n"
          ]
        }
      ]
    },
    {
      "cell_type": "code",
      "source": [
        "# Liberar memoria\n",
        "normal_data_test = []\n",
        "covid_data_test = []\n",
        "normal_labels_test = []\n",
        "covid_labels_test = []\n",
        "gc.collect()"
      ],
      "metadata": {
        "colab": {
          "base_uri": "https://localhost:8080/"
        },
        "id": "7r7l59Xd12ML",
        "outputId": "a3c30c88-7eb1-4e9b-c7e9-8bdb56eb1544"
      },
      "execution_count": 35,
      "outputs": [
        {
          "output_type": "execute_result",
          "data": {
            "text/plain": [
              "0"
            ]
          },
          "metadata": {},
          "execution_count": 35
        }
      ]
    },
    {
      "cell_type": "code",
      "source": [
        "# Cargar encoder\n",
        "with open('label_encoder.pkl', 'rb') as f:\n",
        "    label_encoder = pickle.load(f)"
      ],
      "metadata": {
        "id": "GNqRQxna177_"
      },
      "execution_count": 36,
      "outputs": []
    },
    {
      "cell_type": "code",
      "source": [
        "# Codificar etiquetas en valores enteros\n",
        "labels_encoded = label_encoder.transform(labels)\n",
        "Y_test = to_categorical(labels_encoded)\n",
        "\n",
        "class_names = label_encoder.classes_.tolist()\n",
        "class_names"
      ],
      "metadata": {
        "colab": {
          "base_uri": "https://localhost:8080/"
        },
        "id": "9WGPgxpR10eT",
        "outputId": "5ca71555-2274-4e58-86a9-f89828c3c8a4"
      },
      "execution_count": 37,
      "outputs": [
        {
          "output_type": "execute_result",
          "data": {
            "text/plain": [
              "['covid', 'normal']"
            ]
          },
          "metadata": {},
          "execution_count": 37
        }
      ]
    },
    {
      "cell_type": "code",
      "source": [
        "# Cargar el modelo entrenado desde el archivo guardado\n",
        "best_model_carlos = load_model(\"modelo_carlos.h5\")\n",
        "Y_pred = best_model_carlos.predict(data)"
      ],
      "metadata": {
        "colab": {
          "base_uri": "https://localhost:8080/"
        },
        "id": "UuWWZYFA2UOS",
        "outputId": "8004080a-3bf9-40fb-f0d0-50f19c3a98c8"
      },
      "execution_count": 39,
      "outputs": [
        {
          "output_type": "stream",
          "name": "stdout",
          "text": [
            "3/3 [==============================] - 6s 3s/step\n"
          ]
        }
      ]
    },
    {
      "cell_type": "code",
      "source": [
        "cr = classification_report(Y_test.argmax(axis=1), Y_pred.argmax(axis=1),target_names=class_names,output_dict=True)\n",
        "mostrar_df_estilizado(pd.DataFrame(cr))"
      ],
      "metadata": {
        "colab": {
          "base_uri": "https://localhost:8080/",
          "height": 175
        },
        "id": "KBbJCITQBdF-",
        "outputId": "aa17a416-a67c-4999-96b5-c9f9e069e837"
      },
      "execution_count": 40,
      "outputs": [
        {
          "output_type": "execute_result",
          "data": {
            "text/plain": [
              "<pandas.io.formats.style.Styler at 0x7f5c6c458eb0>"
            ],
            "text/html": [
              "<style type=\"text/css\">\n",
              "#T_02cde th {\n",
              "  text-align: center;\n",
              "  background-color: #f4f4f4;\n",
              "  color: black;\n",
              "}\n",
              "#T_02cde_row0_col0, #T_02cde_row0_col1, #T_02cde_row0_col2, #T_02cde_row0_col3, #T_02cde_row0_col4, #T_02cde_row1_col0, #T_02cde_row1_col1, #T_02cde_row1_col2, #T_02cde_row1_col3, #T_02cde_row1_col4, #T_02cde_row2_col0, #T_02cde_row2_col1, #T_02cde_row2_col2, #T_02cde_row2_col3, #T_02cde_row2_col4, #T_02cde_row3_col0, #T_02cde_row3_col1, #T_02cde_row3_col2, #T_02cde_row3_col3, #T_02cde_row3_col4 {\n",
              "  text-align: center;\n",
              "  font-size: 10pt;\n",
              "  background-color: white;\n",
              "  color: black;\n",
              "}\n",
              "</style>\n",
              "<table id=\"T_02cde\" class=\"dataframe\">\n",
              "  <thead>\n",
              "    <tr>\n",
              "      <th class=\"blank level0\" >&nbsp;</th>\n",
              "      <th id=\"T_02cde_level0_col0\" class=\"col_heading level0 col0\" >covid</th>\n",
              "      <th id=\"T_02cde_level0_col1\" class=\"col_heading level0 col1\" >normal</th>\n",
              "      <th id=\"T_02cde_level0_col2\" class=\"col_heading level0 col2\" >accuracy</th>\n",
              "      <th id=\"T_02cde_level0_col3\" class=\"col_heading level0 col3\" >macro avg</th>\n",
              "      <th id=\"T_02cde_level0_col4\" class=\"col_heading level0 col4\" >weighted avg</th>\n",
              "    </tr>\n",
              "  </thead>\n",
              "  <tbody>\n",
              "    <tr>\n",
              "      <th id=\"T_02cde_level0_row0\" class=\"row_heading level0 row0\" >precision</th>\n",
              "      <td id=\"T_02cde_row0_col0\" class=\"data row0 col0\" >1.0000</td>\n",
              "      <td id=\"T_02cde_row0_col1\" class=\"data row0 col1\" >0.9857</td>\n",
              "      <td id=\"T_02cde_row0_col2\" class=\"data row0 col2\" >0.9881</td>\n",
              "      <td id=\"T_02cde_row0_col3\" class=\"data row0 col3\" >0.9929</td>\n",
              "      <td id=\"T_02cde_row0_col4\" class=\"data row0 col4\" >0.9883</td>\n",
              "    </tr>\n",
              "    <tr>\n",
              "      <th id=\"T_02cde_level0_row1\" class=\"row_heading level0 row1\" >recall</th>\n",
              "      <td id=\"T_02cde_row1_col0\" class=\"data row1 col0\" >0.9333</td>\n",
              "      <td id=\"T_02cde_row1_col1\" class=\"data row1 col1\" >1.0000</td>\n",
              "      <td id=\"T_02cde_row1_col2\" class=\"data row1 col2\" >0.9881</td>\n",
              "      <td id=\"T_02cde_row1_col3\" class=\"data row1 col3\" >0.9667</td>\n",
              "      <td id=\"T_02cde_row1_col4\" class=\"data row1 col4\" >0.9881</td>\n",
              "    </tr>\n",
              "    <tr>\n",
              "      <th id=\"T_02cde_level0_row2\" class=\"row_heading level0 row2\" >f1-score</th>\n",
              "      <td id=\"T_02cde_row2_col0\" class=\"data row2 col0\" >0.9655</td>\n",
              "      <td id=\"T_02cde_row2_col1\" class=\"data row2 col1\" >0.9928</td>\n",
              "      <td id=\"T_02cde_row2_col2\" class=\"data row2 col2\" >0.9881</td>\n",
              "      <td id=\"T_02cde_row2_col3\" class=\"data row2 col3\" >0.9792</td>\n",
              "      <td id=\"T_02cde_row2_col4\" class=\"data row2 col4\" >0.9879</td>\n",
              "    </tr>\n",
              "    <tr>\n",
              "      <th id=\"T_02cde_level0_row3\" class=\"row_heading level0 row3\" >support</th>\n",
              "      <td id=\"T_02cde_row3_col0\" class=\"data row3 col0\" >15.0000</td>\n",
              "      <td id=\"T_02cde_row3_col1\" class=\"data row3 col1\" >69.0000</td>\n",
              "      <td id=\"T_02cde_row3_col2\" class=\"data row3 col2\" >0.9881</td>\n",
              "      <td id=\"T_02cde_row3_col3\" class=\"data row3 col3\" >84.0000</td>\n",
              "      <td id=\"T_02cde_row3_col4\" class=\"data row3 col4\" >84.0000</td>\n",
              "    </tr>\n",
              "  </tbody>\n",
              "</table>\n"
            ]
          },
          "metadata": {},
          "execution_count": 40
        }
      ]
    },
    {
      "cell_type": "code",
      "source": [
        "cm = confusion_matrix(Y_test.argmax(axis=1), Y_pred.argmax(axis=1))\n",
        "total = sum(sum(cm))\n",
        "acc = (cm[0, 0] + cm[1, 1]) / total\n",
        "sensitivity = cm[0, 0] / (cm[0, 0] + cm[0, 1])\n",
        "specificity = cm[1, 1] / (cm[1, 0] + cm[1, 1])\n",
        "\n",
        "print(\"acc: {:.2f}%\".format(acc*100))\n",
        "print(\"sensitivity: {:.2f}%\".format(sensitivity*100))\n",
        "print(\"specificity: {:.2f}%\".format(specificity*100))"
      ],
      "metadata": {
        "colab": {
          "base_uri": "https://localhost:8080/"
        },
        "id": "7K5NxtPy3Ie3",
        "outputId": "d9b93869-5c97-4b5a-ab84-629580af74ac"
      },
      "execution_count": 41,
      "outputs": [
        {
          "output_type": "stream",
          "name": "stdout",
          "text": [
            "acc: 98.81%\n",
            "sensitivity: 93.33%\n",
            "specificity: 100.00%\n"
          ]
        }
      ]
    },
    {
      "cell_type": "code",
      "source": [
        "print_confusion_matrix(cm,class_names)"
      ],
      "metadata": {
        "colab": {
          "base_uri": "https://localhost:8080/",
          "height": 435
        },
        "id": "8p87xDfWag_X",
        "outputId": "4c913a31-bfec-4882-a310-886f0976aaab"
      },
      "execution_count": 42,
      "outputs": [
        {
          "output_type": "stream",
          "name": "stdout",
          "text": [
            "Figure(500x400)\n"
          ]
        },
        {
          "output_type": "display_data",
          "data": {
            "text/plain": [
              "<Figure size 500x400 with 2 Axes>"
            ],
            "image/png": "[encoded data removed]"
          },
          "metadata": {}
        }
      ]
    }
  ]
}